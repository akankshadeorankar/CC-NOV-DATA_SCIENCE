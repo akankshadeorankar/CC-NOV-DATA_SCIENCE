{
 "cells": [
  {
   "cell_type": "code",
   "execution_count": 1,
   "id": "32bd602a",
   "metadata": {
    "execution": {
     "iopub.execute_input": "2022-10-17T11:53:24.574656Z",
     "iopub.status.busy": "2022-10-17T11:53:24.573837Z",
     "iopub.status.idle": "2022-10-17T11:53:25.737760Z",
     "shell.execute_reply": "2022-10-17T11:53:25.736550Z"
    },
    "papermill": {
     "duration": 1.185152,
     "end_time": "2022-10-17T11:53:25.740760",
     "exception": false,
     "start_time": "2022-10-17T11:53:24.555608",
     "status": "completed"
    },
    "tags": []
   },
   "outputs": [],
   "source": [
    "import numpy as np\n",
    "import pandas as pd\n",
    "import seaborn as sns\n",
    "from matplotlib import pyplot as plt\n",
    "\n",
    "from collections import Counter\n",
    "\n",
    "sns.set()\n",
    "%matplotlib inline"
   ]
  },
  {
   "cell_type": "code",
   "execution_count": 2,
   "id": "949080f6",
   "metadata": {
    "execution": {
     "iopub.execute_input": "2022-10-17T11:53:25.802423Z",
     "iopub.status.busy": "2022-10-17T11:53:25.802009Z",
     "iopub.status.idle": "2022-10-17T11:53:31.130324Z",
     "shell.execute_reply": "2022-10-17T11:53:31.128635Z"
    },
    "papermill": {
     "duration": 5.347848,
     "end_time": "2022-10-17T11:53:31.133328",
     "exception": false,
     "start_time": "2022-10-17T11:53:25.785480",
     "status": "completed"
    },
    "tags": []
   },
   "outputs": [],
   "source": [
    "df_raw = pd.read_csv('creditcard.csv')"
   ]
  },
  {
   "cell_type": "code",
   "execution_count": 3,
   "id": "17d2f73f",
   "metadata": {
    "execution": {
     "iopub.execute_input": "2022-10-17T11:53:31.195205Z",
     "iopub.status.busy": "2022-10-17T11:53:31.194346Z",
     "iopub.status.idle": "2022-10-17T11:53:31.699013Z",
     "shell.execute_reply": "2022-10-17T11:53:31.697666Z"
    },
    "papermill": {
     "duration": 0.523869,
     "end_time": "2022-10-17T11:53:31.701980",
     "exception": false,
     "start_time": "2022-10-17T11:53:31.178111",
     "status": "completed"
    },
    "tags": []
   },
   "outputs": [
    {
     "data": {
      "text/html": [
       "<div>\n",
       "<style scoped>\n",
       "    .dataframe tbody tr th:only-of-type {\n",
       "        vertical-align: middle;\n",
       "    }\n",
       "\n",
       "    .dataframe tbody tr th {\n",
       "        vertical-align: top;\n",
       "    }\n",
       "\n",
       "    .dataframe thead th {\n",
       "        text-align: right;\n",
       "    }\n",
       "</style>\n",
       "<table border=\"1\" class=\"dataframe\">\n",
       "  <thead>\n",
       "    <tr style=\"text-align: right;\">\n",
       "      <th></th>\n",
       "      <th>Time</th>\n",
       "      <th>V1</th>\n",
       "      <th>V2</th>\n",
       "      <th>V3</th>\n",
       "      <th>V4</th>\n",
       "      <th>V5</th>\n",
       "      <th>V6</th>\n",
       "      <th>V7</th>\n",
       "      <th>V8</th>\n",
       "      <th>V9</th>\n",
       "      <th>...</th>\n",
       "      <th>V21</th>\n",
       "      <th>V22</th>\n",
       "      <th>V23</th>\n",
       "      <th>V24</th>\n",
       "      <th>V25</th>\n",
       "      <th>V26</th>\n",
       "      <th>V27</th>\n",
       "      <th>V28</th>\n",
       "      <th>Amount</th>\n",
       "      <th>Class</th>\n",
       "    </tr>\n",
       "  </thead>\n",
       "  <tbody>\n",
       "    <tr>\n",
       "      <th>count</th>\n",
       "      <td>284807.000000</td>\n",
       "      <td>2.848070e+05</td>\n",
       "      <td>2.848070e+05</td>\n",
       "      <td>2.848070e+05</td>\n",
       "      <td>2.848070e+05</td>\n",
       "      <td>2.848070e+05</td>\n",
       "      <td>2.848070e+05</td>\n",
       "      <td>2.848070e+05</td>\n",
       "      <td>2.848070e+05</td>\n",
       "      <td>2.848070e+05</td>\n",
       "      <td>...</td>\n",
       "      <td>2.848070e+05</td>\n",
       "      <td>2.848070e+05</td>\n",
       "      <td>2.848070e+05</td>\n",
       "      <td>2.848070e+05</td>\n",
       "      <td>2.848070e+05</td>\n",
       "      <td>2.848070e+05</td>\n",
       "      <td>2.848070e+05</td>\n",
       "      <td>2.848070e+05</td>\n",
       "      <td>284807.000000</td>\n",
       "      <td>284807.000000</td>\n",
       "    </tr>\n",
       "    <tr>\n",
       "      <th>mean</th>\n",
       "      <td>94813.859575</td>\n",
       "      <td>1.168375e-15</td>\n",
       "      <td>3.416908e-16</td>\n",
       "      <td>-1.379537e-15</td>\n",
       "      <td>2.074095e-15</td>\n",
       "      <td>9.604066e-16</td>\n",
       "      <td>1.487313e-15</td>\n",
       "      <td>-5.556467e-16</td>\n",
       "      <td>1.213481e-16</td>\n",
       "      <td>-2.406331e-15</td>\n",
       "      <td>...</td>\n",
       "      <td>1.654067e-16</td>\n",
       "      <td>-3.568593e-16</td>\n",
       "      <td>2.578648e-16</td>\n",
       "      <td>4.473266e-15</td>\n",
       "      <td>5.340915e-16</td>\n",
       "      <td>1.683437e-15</td>\n",
       "      <td>-3.660091e-16</td>\n",
       "      <td>-1.227390e-16</td>\n",
       "      <td>88.349619</td>\n",
       "      <td>0.001727</td>\n",
       "    </tr>\n",
       "    <tr>\n",
       "      <th>std</th>\n",
       "      <td>47488.145955</td>\n",
       "      <td>1.958696e+00</td>\n",
       "      <td>1.651309e+00</td>\n",
       "      <td>1.516255e+00</td>\n",
       "      <td>1.415869e+00</td>\n",
       "      <td>1.380247e+00</td>\n",
       "      <td>1.332271e+00</td>\n",
       "      <td>1.237094e+00</td>\n",
       "      <td>1.194353e+00</td>\n",
       "      <td>1.098632e+00</td>\n",
       "      <td>...</td>\n",
       "      <td>7.345240e-01</td>\n",
       "      <td>7.257016e-01</td>\n",
       "      <td>6.244603e-01</td>\n",
       "      <td>6.056471e-01</td>\n",
       "      <td>5.212781e-01</td>\n",
       "      <td>4.822270e-01</td>\n",
       "      <td>4.036325e-01</td>\n",
       "      <td>3.300833e-01</td>\n",
       "      <td>250.120109</td>\n",
       "      <td>0.041527</td>\n",
       "    </tr>\n",
       "    <tr>\n",
       "      <th>min</th>\n",
       "      <td>0.000000</td>\n",
       "      <td>-5.640751e+01</td>\n",
       "      <td>-7.271573e+01</td>\n",
       "      <td>-4.832559e+01</td>\n",
       "      <td>-5.683171e+00</td>\n",
       "      <td>-1.137433e+02</td>\n",
       "      <td>-2.616051e+01</td>\n",
       "      <td>-4.355724e+01</td>\n",
       "      <td>-7.321672e+01</td>\n",
       "      <td>-1.343407e+01</td>\n",
       "      <td>...</td>\n",
       "      <td>-3.483038e+01</td>\n",
       "      <td>-1.093314e+01</td>\n",
       "      <td>-4.480774e+01</td>\n",
       "      <td>-2.836627e+00</td>\n",
       "      <td>-1.029540e+01</td>\n",
       "      <td>-2.604551e+00</td>\n",
       "      <td>-2.256568e+01</td>\n",
       "      <td>-1.543008e+01</td>\n",
       "      <td>0.000000</td>\n",
       "      <td>0.000000</td>\n",
       "    </tr>\n",
       "    <tr>\n",
       "      <th>25%</th>\n",
       "      <td>54201.500000</td>\n",
       "      <td>-9.203734e-01</td>\n",
       "      <td>-5.985499e-01</td>\n",
       "      <td>-8.903648e-01</td>\n",
       "      <td>-8.486401e-01</td>\n",
       "      <td>-6.915971e-01</td>\n",
       "      <td>-7.682956e-01</td>\n",
       "      <td>-5.540759e-01</td>\n",
       "      <td>-2.086297e-01</td>\n",
       "      <td>-6.430976e-01</td>\n",
       "      <td>...</td>\n",
       "      <td>-2.283949e-01</td>\n",
       "      <td>-5.423504e-01</td>\n",
       "      <td>-1.618463e-01</td>\n",
       "      <td>-3.545861e-01</td>\n",
       "      <td>-3.171451e-01</td>\n",
       "      <td>-3.269839e-01</td>\n",
       "      <td>-7.083953e-02</td>\n",
       "      <td>-5.295979e-02</td>\n",
       "      <td>5.600000</td>\n",
       "      <td>0.000000</td>\n",
       "    </tr>\n",
       "    <tr>\n",
       "      <th>50%</th>\n",
       "      <td>84692.000000</td>\n",
       "      <td>1.810880e-02</td>\n",
       "      <td>6.548556e-02</td>\n",
       "      <td>1.798463e-01</td>\n",
       "      <td>-1.984653e-02</td>\n",
       "      <td>-5.433583e-02</td>\n",
       "      <td>-2.741871e-01</td>\n",
       "      <td>4.010308e-02</td>\n",
       "      <td>2.235804e-02</td>\n",
       "      <td>-5.142873e-02</td>\n",
       "      <td>...</td>\n",
       "      <td>-2.945017e-02</td>\n",
       "      <td>6.781943e-03</td>\n",
       "      <td>-1.119293e-02</td>\n",
       "      <td>4.097606e-02</td>\n",
       "      <td>1.659350e-02</td>\n",
       "      <td>-5.213911e-02</td>\n",
       "      <td>1.342146e-03</td>\n",
       "      <td>1.124383e-02</td>\n",
       "      <td>22.000000</td>\n",
       "      <td>0.000000</td>\n",
       "    </tr>\n",
       "    <tr>\n",
       "      <th>75%</th>\n",
       "      <td>139320.500000</td>\n",
       "      <td>1.315642e+00</td>\n",
       "      <td>8.037239e-01</td>\n",
       "      <td>1.027196e+00</td>\n",
       "      <td>7.433413e-01</td>\n",
       "      <td>6.119264e-01</td>\n",
       "      <td>3.985649e-01</td>\n",
       "      <td>5.704361e-01</td>\n",
       "      <td>3.273459e-01</td>\n",
       "      <td>5.971390e-01</td>\n",
       "      <td>...</td>\n",
       "      <td>1.863772e-01</td>\n",
       "      <td>5.285536e-01</td>\n",
       "      <td>1.476421e-01</td>\n",
       "      <td>4.395266e-01</td>\n",
       "      <td>3.507156e-01</td>\n",
       "      <td>2.409522e-01</td>\n",
       "      <td>9.104512e-02</td>\n",
       "      <td>7.827995e-02</td>\n",
       "      <td>77.165000</td>\n",
       "      <td>0.000000</td>\n",
       "    </tr>\n",
       "    <tr>\n",
       "      <th>max</th>\n",
       "      <td>172792.000000</td>\n",
       "      <td>2.454930e+00</td>\n",
       "      <td>2.205773e+01</td>\n",
       "      <td>9.382558e+00</td>\n",
       "      <td>1.687534e+01</td>\n",
       "      <td>3.480167e+01</td>\n",
       "      <td>7.330163e+01</td>\n",
       "      <td>1.205895e+02</td>\n",
       "      <td>2.000721e+01</td>\n",
       "      <td>1.559499e+01</td>\n",
       "      <td>...</td>\n",
       "      <td>2.720284e+01</td>\n",
       "      <td>1.050309e+01</td>\n",
       "      <td>2.252841e+01</td>\n",
       "      <td>4.584549e+00</td>\n",
       "      <td>7.519589e+00</td>\n",
       "      <td>3.517346e+00</td>\n",
       "      <td>3.161220e+01</td>\n",
       "      <td>3.384781e+01</td>\n",
       "      <td>25691.160000</td>\n",
       "      <td>1.000000</td>\n",
       "    </tr>\n",
       "  </tbody>\n",
       "</table>\n",
       "<p>8 rows × 31 columns</p>\n",
       "</div>"
      ],
      "text/plain": [
       "                Time            V1            V2            V3            V4  \\\n",
       "count  284807.000000  2.848070e+05  2.848070e+05  2.848070e+05  2.848070e+05   \n",
       "mean    94813.859575  1.168375e-15  3.416908e-16 -1.379537e-15  2.074095e-15   \n",
       "std     47488.145955  1.958696e+00  1.651309e+00  1.516255e+00  1.415869e+00   \n",
       "min         0.000000 -5.640751e+01 -7.271573e+01 -4.832559e+01 -5.683171e+00   \n",
       "25%     54201.500000 -9.203734e-01 -5.985499e-01 -8.903648e-01 -8.486401e-01   \n",
       "50%     84692.000000  1.810880e-02  6.548556e-02  1.798463e-01 -1.984653e-02   \n",
       "75%    139320.500000  1.315642e+00  8.037239e-01  1.027196e+00  7.433413e-01   \n",
       "max    172792.000000  2.454930e+00  2.205773e+01  9.382558e+00  1.687534e+01   \n",
       "\n",
       "                 V5            V6            V7            V8            V9  \\\n",
       "count  2.848070e+05  2.848070e+05  2.848070e+05  2.848070e+05  2.848070e+05   \n",
       "mean   9.604066e-16  1.487313e-15 -5.556467e-16  1.213481e-16 -2.406331e-15   \n",
       "std    1.380247e+00  1.332271e+00  1.237094e+00  1.194353e+00  1.098632e+00   \n",
       "min   -1.137433e+02 -2.616051e+01 -4.355724e+01 -7.321672e+01 -1.343407e+01   \n",
       "25%   -6.915971e-01 -7.682956e-01 -5.540759e-01 -2.086297e-01 -6.430976e-01   \n",
       "50%   -5.433583e-02 -2.741871e-01  4.010308e-02  2.235804e-02 -5.142873e-02   \n",
       "75%    6.119264e-01  3.985649e-01  5.704361e-01  3.273459e-01  5.971390e-01   \n",
       "max    3.480167e+01  7.330163e+01  1.205895e+02  2.000721e+01  1.559499e+01   \n",
       "\n",
       "       ...           V21           V22           V23           V24  \\\n",
       "count  ...  2.848070e+05  2.848070e+05  2.848070e+05  2.848070e+05   \n",
       "mean   ...  1.654067e-16 -3.568593e-16  2.578648e-16  4.473266e-15   \n",
       "std    ...  7.345240e-01  7.257016e-01  6.244603e-01  6.056471e-01   \n",
       "min    ... -3.483038e+01 -1.093314e+01 -4.480774e+01 -2.836627e+00   \n",
       "25%    ... -2.283949e-01 -5.423504e-01 -1.618463e-01 -3.545861e-01   \n",
       "50%    ... -2.945017e-02  6.781943e-03 -1.119293e-02  4.097606e-02   \n",
       "75%    ...  1.863772e-01  5.285536e-01  1.476421e-01  4.395266e-01   \n",
       "max    ...  2.720284e+01  1.050309e+01  2.252841e+01  4.584549e+00   \n",
       "\n",
       "                V25           V26           V27           V28         Amount  \\\n",
       "count  2.848070e+05  2.848070e+05  2.848070e+05  2.848070e+05  284807.000000   \n",
       "mean   5.340915e-16  1.683437e-15 -3.660091e-16 -1.227390e-16      88.349619   \n",
       "std    5.212781e-01  4.822270e-01  4.036325e-01  3.300833e-01     250.120109   \n",
       "min   -1.029540e+01 -2.604551e+00 -2.256568e+01 -1.543008e+01       0.000000   \n",
       "25%   -3.171451e-01 -3.269839e-01 -7.083953e-02 -5.295979e-02       5.600000   \n",
       "50%    1.659350e-02 -5.213911e-02  1.342146e-03  1.124383e-02      22.000000   \n",
       "75%    3.507156e-01  2.409522e-01  9.104512e-02  7.827995e-02      77.165000   \n",
       "max    7.519589e+00  3.517346e+00  3.161220e+01  3.384781e+01   25691.160000   \n",
       "\n",
       "               Class  \n",
       "count  284807.000000  \n",
       "mean        0.001727  \n",
       "std         0.041527  \n",
       "min         0.000000  \n",
       "25%         0.000000  \n",
       "50%         0.000000  \n",
       "75%         0.000000  \n",
       "max         1.000000  \n",
       "\n",
       "[8 rows x 31 columns]"
      ]
     },
     "execution_count": 3,
     "metadata": {},
     "output_type": "execute_result"
    }
   ],
   "source": [
    "df_raw.describe(include='all')"
   ]
  },
  {
   "cell_type": "code",
   "execution_count": 4,
   "id": "28e3a0ab",
   "metadata": {
    "execution": {
     "iopub.execute_input": "2022-10-17T11:53:31.736999Z",
     "iopub.status.busy": "2022-10-17T11:53:31.736568Z",
     "iopub.status.idle": "2022-10-17T11:53:31.772176Z",
     "shell.execute_reply": "2022-10-17T11:53:31.770608Z"
    },
    "papermill": {
     "duration": 0.055634,
     "end_time": "2022-10-17T11:53:31.774913",
     "exception": false,
     "start_time": "2022-10-17T11:53:31.719279",
     "status": "completed"
    },
    "tags": []
   },
   "outputs": [],
   "source": [
    "\n",
    "\n",
    "df=df_raw.drop(['Time'], axis=1)"
   ]
  },
  {
   "cell_type": "code",
   "execution_count": 5,
   "id": "b974f48b",
   "metadata": {
    "execution": {
     "iopub.execute_input": "2022-10-17T11:53:31.808774Z",
     "iopub.status.busy": "2022-10-17T11:53:31.807758Z",
     "iopub.status.idle": "2022-10-17T11:53:31.836949Z",
     "shell.execute_reply": "2022-10-17T11:53:31.835944Z"
    },
    "papermill": {
     "duration": 0.04842,
     "end_time": "2022-10-17T11:53:31.839215",
     "exception": false,
     "start_time": "2022-10-17T11:53:31.790795",
     "status": "completed"
    },
    "tags": []
   },
   "outputs": [
    {
     "data": {
      "text/html": [
       "<div>\n",
       "<style scoped>\n",
       "    .dataframe tbody tr th:only-of-type {\n",
       "        vertical-align: middle;\n",
       "    }\n",
       "\n",
       "    .dataframe tbody tr th {\n",
       "        vertical-align: top;\n",
       "    }\n",
       "\n",
       "    .dataframe thead th {\n",
       "        text-align: right;\n",
       "    }\n",
       "</style>\n",
       "<table border=\"1\" class=\"dataframe\">\n",
       "  <thead>\n",
       "    <tr style=\"text-align: right;\">\n",
       "      <th></th>\n",
       "      <th>V1</th>\n",
       "      <th>V2</th>\n",
       "      <th>V3</th>\n",
       "      <th>V4</th>\n",
       "      <th>V5</th>\n",
       "      <th>V6</th>\n",
       "      <th>V7</th>\n",
       "      <th>V8</th>\n",
       "      <th>V9</th>\n",
       "      <th>V10</th>\n",
       "      <th>...</th>\n",
       "      <th>V21</th>\n",
       "      <th>V22</th>\n",
       "      <th>V23</th>\n",
       "      <th>V24</th>\n",
       "      <th>V25</th>\n",
       "      <th>V26</th>\n",
       "      <th>V27</th>\n",
       "      <th>V28</th>\n",
       "      <th>Amount</th>\n",
       "      <th>Class</th>\n",
       "    </tr>\n",
       "  </thead>\n",
       "  <tbody>\n",
       "    <tr>\n",
       "      <th>0</th>\n",
       "      <td>-1.359807</td>\n",
       "      <td>-0.072781</td>\n",
       "      <td>2.536347</td>\n",
       "      <td>1.378155</td>\n",
       "      <td>-0.338321</td>\n",
       "      <td>0.462388</td>\n",
       "      <td>0.239599</td>\n",
       "      <td>0.098698</td>\n",
       "      <td>0.363787</td>\n",
       "      <td>0.090794</td>\n",
       "      <td>...</td>\n",
       "      <td>-0.018307</td>\n",
       "      <td>0.277838</td>\n",
       "      <td>-0.110474</td>\n",
       "      <td>0.066928</td>\n",
       "      <td>0.128539</td>\n",
       "      <td>-0.189115</td>\n",
       "      <td>0.133558</td>\n",
       "      <td>-0.021053</td>\n",
       "      <td>149.62</td>\n",
       "      <td>0</td>\n",
       "    </tr>\n",
       "    <tr>\n",
       "      <th>1</th>\n",
       "      <td>1.191857</td>\n",
       "      <td>0.266151</td>\n",
       "      <td>0.166480</td>\n",
       "      <td>0.448154</td>\n",
       "      <td>0.060018</td>\n",
       "      <td>-0.082361</td>\n",
       "      <td>-0.078803</td>\n",
       "      <td>0.085102</td>\n",
       "      <td>-0.255425</td>\n",
       "      <td>-0.166974</td>\n",
       "      <td>...</td>\n",
       "      <td>-0.225775</td>\n",
       "      <td>-0.638672</td>\n",
       "      <td>0.101288</td>\n",
       "      <td>-0.339846</td>\n",
       "      <td>0.167170</td>\n",
       "      <td>0.125895</td>\n",
       "      <td>-0.008983</td>\n",
       "      <td>0.014724</td>\n",
       "      <td>2.69</td>\n",
       "      <td>0</td>\n",
       "    </tr>\n",
       "    <tr>\n",
       "      <th>2</th>\n",
       "      <td>-1.358354</td>\n",
       "      <td>-1.340163</td>\n",
       "      <td>1.773209</td>\n",
       "      <td>0.379780</td>\n",
       "      <td>-0.503198</td>\n",
       "      <td>1.800499</td>\n",
       "      <td>0.791461</td>\n",
       "      <td>0.247676</td>\n",
       "      <td>-1.514654</td>\n",
       "      <td>0.207643</td>\n",
       "      <td>...</td>\n",
       "      <td>0.247998</td>\n",
       "      <td>0.771679</td>\n",
       "      <td>0.909412</td>\n",
       "      <td>-0.689281</td>\n",
       "      <td>-0.327642</td>\n",
       "      <td>-0.139097</td>\n",
       "      <td>-0.055353</td>\n",
       "      <td>-0.059752</td>\n",
       "      <td>378.66</td>\n",
       "      <td>0</td>\n",
       "    </tr>\n",
       "    <tr>\n",
       "      <th>3</th>\n",
       "      <td>-0.966272</td>\n",
       "      <td>-0.185226</td>\n",
       "      <td>1.792993</td>\n",
       "      <td>-0.863291</td>\n",
       "      <td>-0.010309</td>\n",
       "      <td>1.247203</td>\n",
       "      <td>0.237609</td>\n",
       "      <td>0.377436</td>\n",
       "      <td>-1.387024</td>\n",
       "      <td>-0.054952</td>\n",
       "      <td>...</td>\n",
       "      <td>-0.108300</td>\n",
       "      <td>0.005274</td>\n",
       "      <td>-0.190321</td>\n",
       "      <td>-1.175575</td>\n",
       "      <td>0.647376</td>\n",
       "      <td>-0.221929</td>\n",
       "      <td>0.062723</td>\n",
       "      <td>0.061458</td>\n",
       "      <td>123.50</td>\n",
       "      <td>0</td>\n",
       "    </tr>\n",
       "    <tr>\n",
       "      <th>4</th>\n",
       "      <td>-1.158233</td>\n",
       "      <td>0.877737</td>\n",
       "      <td>1.548718</td>\n",
       "      <td>0.403034</td>\n",
       "      <td>-0.407193</td>\n",
       "      <td>0.095921</td>\n",
       "      <td>0.592941</td>\n",
       "      <td>-0.270533</td>\n",
       "      <td>0.817739</td>\n",
       "      <td>0.753074</td>\n",
       "      <td>...</td>\n",
       "      <td>-0.009431</td>\n",
       "      <td>0.798278</td>\n",
       "      <td>-0.137458</td>\n",
       "      <td>0.141267</td>\n",
       "      <td>-0.206010</td>\n",
       "      <td>0.502292</td>\n",
       "      <td>0.219422</td>\n",
       "      <td>0.215153</td>\n",
       "      <td>69.99</td>\n",
       "      <td>0</td>\n",
       "    </tr>\n",
       "    <tr>\n",
       "      <th>5</th>\n",
       "      <td>-0.425966</td>\n",
       "      <td>0.960523</td>\n",
       "      <td>1.141109</td>\n",
       "      <td>-0.168252</td>\n",
       "      <td>0.420987</td>\n",
       "      <td>-0.029728</td>\n",
       "      <td>0.476201</td>\n",
       "      <td>0.260314</td>\n",
       "      <td>-0.568671</td>\n",
       "      <td>-0.371407</td>\n",
       "      <td>...</td>\n",
       "      <td>-0.208254</td>\n",
       "      <td>-0.559825</td>\n",
       "      <td>-0.026398</td>\n",
       "      <td>-0.371427</td>\n",
       "      <td>-0.232794</td>\n",
       "      <td>0.105915</td>\n",
       "      <td>0.253844</td>\n",
       "      <td>0.081080</td>\n",
       "      <td>3.67</td>\n",
       "      <td>0</td>\n",
       "    </tr>\n",
       "    <tr>\n",
       "      <th>6</th>\n",
       "      <td>1.229658</td>\n",
       "      <td>0.141004</td>\n",
       "      <td>0.045371</td>\n",
       "      <td>1.202613</td>\n",
       "      <td>0.191881</td>\n",
       "      <td>0.272708</td>\n",
       "      <td>-0.005159</td>\n",
       "      <td>0.081213</td>\n",
       "      <td>0.464960</td>\n",
       "      <td>-0.099254</td>\n",
       "      <td>...</td>\n",
       "      <td>-0.167716</td>\n",
       "      <td>-0.270710</td>\n",
       "      <td>-0.154104</td>\n",
       "      <td>-0.780055</td>\n",
       "      <td>0.750137</td>\n",
       "      <td>-0.257237</td>\n",
       "      <td>0.034507</td>\n",
       "      <td>0.005168</td>\n",
       "      <td>4.99</td>\n",
       "      <td>0</td>\n",
       "    </tr>\n",
       "    <tr>\n",
       "      <th>7</th>\n",
       "      <td>-0.644269</td>\n",
       "      <td>1.417964</td>\n",
       "      <td>1.074380</td>\n",
       "      <td>-0.492199</td>\n",
       "      <td>0.948934</td>\n",
       "      <td>0.428118</td>\n",
       "      <td>1.120631</td>\n",
       "      <td>-3.807864</td>\n",
       "      <td>0.615375</td>\n",
       "      <td>1.249376</td>\n",
       "      <td>...</td>\n",
       "      <td>1.943465</td>\n",
       "      <td>-1.015455</td>\n",
       "      <td>0.057504</td>\n",
       "      <td>-0.649709</td>\n",
       "      <td>-0.415267</td>\n",
       "      <td>-0.051634</td>\n",
       "      <td>-1.206921</td>\n",
       "      <td>-1.085339</td>\n",
       "      <td>40.80</td>\n",
       "      <td>0</td>\n",
       "    </tr>\n",
       "    <tr>\n",
       "      <th>8</th>\n",
       "      <td>-0.894286</td>\n",
       "      <td>0.286157</td>\n",
       "      <td>-0.113192</td>\n",
       "      <td>-0.271526</td>\n",
       "      <td>2.669599</td>\n",
       "      <td>3.721818</td>\n",
       "      <td>0.370145</td>\n",
       "      <td>0.851084</td>\n",
       "      <td>-0.392048</td>\n",
       "      <td>-0.410430</td>\n",
       "      <td>...</td>\n",
       "      <td>-0.073425</td>\n",
       "      <td>-0.268092</td>\n",
       "      <td>-0.204233</td>\n",
       "      <td>1.011592</td>\n",
       "      <td>0.373205</td>\n",
       "      <td>-0.384157</td>\n",
       "      <td>0.011747</td>\n",
       "      <td>0.142404</td>\n",
       "      <td>93.20</td>\n",
       "      <td>0</td>\n",
       "    </tr>\n",
       "    <tr>\n",
       "      <th>9</th>\n",
       "      <td>-0.338262</td>\n",
       "      <td>1.119593</td>\n",
       "      <td>1.044367</td>\n",
       "      <td>-0.222187</td>\n",
       "      <td>0.499361</td>\n",
       "      <td>-0.246761</td>\n",
       "      <td>0.651583</td>\n",
       "      <td>0.069539</td>\n",
       "      <td>-0.736727</td>\n",
       "      <td>-0.366846</td>\n",
       "      <td>...</td>\n",
       "      <td>-0.246914</td>\n",
       "      <td>-0.633753</td>\n",
       "      <td>-0.120794</td>\n",
       "      <td>-0.385050</td>\n",
       "      <td>-0.069733</td>\n",
       "      <td>0.094199</td>\n",
       "      <td>0.246219</td>\n",
       "      <td>0.083076</td>\n",
       "      <td>3.68</td>\n",
       "      <td>0</td>\n",
       "    </tr>\n",
       "  </tbody>\n",
       "</table>\n",
       "<p>10 rows × 30 columns</p>\n",
       "</div>"
      ],
      "text/plain": [
       "         V1        V2        V3        V4        V5        V6        V7  \\\n",
       "0 -1.359807 -0.072781  2.536347  1.378155 -0.338321  0.462388  0.239599   \n",
       "1  1.191857  0.266151  0.166480  0.448154  0.060018 -0.082361 -0.078803   \n",
       "2 -1.358354 -1.340163  1.773209  0.379780 -0.503198  1.800499  0.791461   \n",
       "3 -0.966272 -0.185226  1.792993 -0.863291 -0.010309  1.247203  0.237609   \n",
       "4 -1.158233  0.877737  1.548718  0.403034 -0.407193  0.095921  0.592941   \n",
       "5 -0.425966  0.960523  1.141109 -0.168252  0.420987 -0.029728  0.476201   \n",
       "6  1.229658  0.141004  0.045371  1.202613  0.191881  0.272708 -0.005159   \n",
       "7 -0.644269  1.417964  1.074380 -0.492199  0.948934  0.428118  1.120631   \n",
       "8 -0.894286  0.286157 -0.113192 -0.271526  2.669599  3.721818  0.370145   \n",
       "9 -0.338262  1.119593  1.044367 -0.222187  0.499361 -0.246761  0.651583   \n",
       "\n",
       "         V8        V9       V10  ...       V21       V22       V23       V24  \\\n",
       "0  0.098698  0.363787  0.090794  ... -0.018307  0.277838 -0.110474  0.066928   \n",
       "1  0.085102 -0.255425 -0.166974  ... -0.225775 -0.638672  0.101288 -0.339846   \n",
       "2  0.247676 -1.514654  0.207643  ...  0.247998  0.771679  0.909412 -0.689281   \n",
       "3  0.377436 -1.387024 -0.054952  ... -0.108300  0.005274 -0.190321 -1.175575   \n",
       "4 -0.270533  0.817739  0.753074  ... -0.009431  0.798278 -0.137458  0.141267   \n",
       "5  0.260314 -0.568671 -0.371407  ... -0.208254 -0.559825 -0.026398 -0.371427   \n",
       "6  0.081213  0.464960 -0.099254  ... -0.167716 -0.270710 -0.154104 -0.780055   \n",
       "7 -3.807864  0.615375  1.249376  ...  1.943465 -1.015455  0.057504 -0.649709   \n",
       "8  0.851084 -0.392048 -0.410430  ... -0.073425 -0.268092 -0.204233  1.011592   \n",
       "9  0.069539 -0.736727 -0.366846  ... -0.246914 -0.633753 -0.120794 -0.385050   \n",
       "\n",
       "        V25       V26       V27       V28  Amount  Class  \n",
       "0  0.128539 -0.189115  0.133558 -0.021053  149.62      0  \n",
       "1  0.167170  0.125895 -0.008983  0.014724    2.69      0  \n",
       "2 -0.327642 -0.139097 -0.055353 -0.059752  378.66      0  \n",
       "3  0.647376 -0.221929  0.062723  0.061458  123.50      0  \n",
       "4 -0.206010  0.502292  0.219422  0.215153   69.99      0  \n",
       "5 -0.232794  0.105915  0.253844  0.081080    3.67      0  \n",
       "6  0.750137 -0.257237  0.034507  0.005168    4.99      0  \n",
       "7 -0.415267 -0.051634 -1.206921 -1.085339   40.80      0  \n",
       "8  0.373205 -0.384157  0.011747  0.142404   93.20      0  \n",
       "9 -0.069733  0.094199  0.246219  0.083076    3.68      0  \n",
       "\n",
       "[10 rows x 30 columns]"
      ]
     },
     "execution_count": 5,
     "metadata": {},
     "output_type": "execute_result"
    }
   ],
   "source": [
    "df.head(10)"
   ]
  },
  {
   "cell_type": "code",
   "execution_count": 6,
   "id": "71ff3374",
   "metadata": {
    "execution": {
     "iopub.execute_input": "2022-10-17T11:53:31.873652Z",
     "iopub.status.busy": "2022-10-17T11:53:31.872909Z",
     "iopub.status.idle": "2022-10-17T11:53:31.878853Z",
     "shell.execute_reply": "2022-10-17T11:53:31.878001Z"
    },
    "papermill": {
     "duration": 0.025872,
     "end_time": "2022-10-17T11:53:31.881063",
     "exception": false,
     "start_time": "2022-10-17T11:53:31.855191",
     "status": "completed"
    },
    "tags": []
   },
   "outputs": [
    {
     "data": {
      "text/plain": [
       "(284807, 30)"
      ]
     },
     "execution_count": 6,
     "metadata": {},
     "output_type": "execute_result"
    }
   ],
   "source": [
    "df.shape"
   ]
  },
  {
   "cell_type": "code",
   "execution_count": 7,
   "id": "5ef7ce19",
   "metadata": {
    "execution": {
     "iopub.execute_input": "2022-10-17T11:53:31.916402Z",
     "iopub.status.busy": "2022-10-17T11:53:31.915710Z",
     "iopub.status.idle": "2022-10-17T11:53:31.942864Z",
     "shell.execute_reply": "2022-10-17T11:53:31.941371Z"
    },
    "papermill": {
     "duration": 0.048522,
     "end_time": "2022-10-17T11:53:31.945702",
     "exception": false,
     "start_time": "2022-10-17T11:53:31.897180",
     "status": "completed"
    },
    "tags": []
   },
   "outputs": [
    {
     "data": {
      "text/plain": [
       "V1        0\n",
       "V2        0\n",
       "V3        0\n",
       "V4        0\n",
       "V5        0\n",
       "V6        0\n",
       "V7        0\n",
       "V8        0\n",
       "V9        0\n",
       "V10       0\n",
       "V11       0\n",
       "V12       0\n",
       "V13       0\n",
       "V14       0\n",
       "V15       0\n",
       "V16       0\n",
       "V17       0\n",
       "V18       0\n",
       "V19       0\n",
       "V20       0\n",
       "V21       0\n",
       "V22       0\n",
       "V23       0\n",
       "V24       0\n",
       "V25       0\n",
       "V26       0\n",
       "V27       0\n",
       "V28       0\n",
       "Amount    0\n",
       "Class     0\n",
       "dtype: int64"
      ]
     },
     "execution_count": 7,
     "metadata": {},
     "output_type": "execute_result"
    }
   ],
   "source": [
    "df.isnull().sum()"
   ]
  },
  {
   "cell_type": "code",
   "execution_count": 9,
   "id": "2150f306",
   "metadata": {
    "execution": {
     "iopub.execute_input": "2022-10-17T11:53:32.023529Z",
     "iopub.status.busy": "2022-10-17T11:53:32.023057Z",
     "iopub.status.idle": "2022-10-17T11:53:32.065569Z",
     "shell.execute_reply": "2022-10-17T11:53:32.063137Z"
    },
    "papermill": {
     "duration": 0.06348,
     "end_time": "2022-10-17T11:53:32.068467",
     "exception": false,
     "start_time": "2022-10-17T11:53:32.004987",
     "status": "completed"
    },
    "tags": []
   },
   "outputs": [
    {
     "name": "stdout",
     "output_type": "stream",
     "text": [
      "<class 'pandas.core.frame.DataFrame'>\n",
      "RangeIndex: 284807 entries, 0 to 284806\n",
      "Data columns (total 30 columns):\n",
      " #   Column  Non-Null Count   Dtype  \n",
      "---  ------  --------------   -----  \n",
      " 0   V1      284807 non-null  float64\n",
      " 1   V2      284807 non-null  float64\n",
      " 2   V3      284807 non-null  float64\n",
      " 3   V4      284807 non-null  float64\n",
      " 4   V5      284807 non-null  float64\n",
      " 5   V6      284807 non-null  float64\n",
      " 6   V7      284807 non-null  float64\n",
      " 7   V8      284807 non-null  float64\n",
      " 8   V9      284807 non-null  float64\n",
      " 9   V10     284807 non-null  float64\n",
      " 10  V11     284807 non-null  float64\n",
      " 11  V12     284807 non-null  float64\n",
      " 12  V13     284807 non-null  float64\n",
      " 13  V14     284807 non-null  float64\n",
      " 14  V15     284807 non-null  float64\n",
      " 15  V16     284807 non-null  float64\n",
      " 16  V17     284807 non-null  float64\n",
      " 17  V18     284807 non-null  float64\n",
      " 18  V19     284807 non-null  float64\n",
      " 19  V20     284807 non-null  float64\n",
      " 20  V21     284807 non-null  float64\n",
      " 21  V22     284807 non-null  float64\n",
      " 22  V23     284807 non-null  float64\n",
      " 23  V24     284807 non-null  float64\n",
      " 24  V25     284807 non-null  float64\n",
      " 25  V26     284807 non-null  float64\n",
      " 26  V27     284807 non-null  float64\n",
      " 27  V28     284807 non-null  float64\n",
      " 28  Amount  284807 non-null  float64\n",
      " 29  Class   284807 non-null  int64  \n",
      "dtypes: float64(29), int64(1)\n",
      "memory usage: 65.2 MB\n"
     ]
    }
   ],
   "source": [
    "df.info()"
   ]
  },
  {
   "cell_type": "code",
   "execution_count": 11,
   "id": "e4e958f8",
   "metadata": {
    "execution": {
     "iopub.execute_input": "2022-10-17T11:53:32.146515Z",
     "iopub.status.busy": "2022-10-17T11:53:32.145830Z",
     "iopub.status.idle": "2022-10-17T11:53:32.155091Z",
     "shell.execute_reply": "2022-10-17T11:53:32.153846Z"
    },
    "papermill": {
     "duration": 0.030646,
     "end_time": "2022-10-17T11:53:32.157755",
     "exception": false,
     "start_time": "2022-10-17T11:53:32.127109",
     "status": "completed"
    },
    "tags": []
   },
   "outputs": [
    {
     "data": {
      "text/plain": [
       "492"
      ]
     },
     "execution_count": 11,
     "metadata": {},
     "output_type": "execute_result"
    }
   ],
   "source": [
    "len(df[df['Class'] == 1])"
   ]
  },
  {
   "cell_type": "code",
   "execution_count": 12,
   "id": "4e96b0e0",
   "metadata": {
    "execution": {
     "iopub.execute_input": "2022-10-17T11:53:32.193893Z",
     "iopub.status.busy": "2022-10-17T11:53:32.192915Z",
     "iopub.status.idle": "2022-10-17T11:53:32.251277Z",
     "shell.execute_reply": "2022-10-17T11:53:32.250231Z"
    },
    "papermill": {
     "duration": 0.079175,
     "end_time": "2022-10-17T11:53:32.253884",
     "exception": false,
     "start_time": "2022-10-17T11:53:32.174709",
     "status": "completed"
    },
    "tags": []
   },
   "outputs": [
    {
     "data": {
      "text/plain": [
       "284315"
      ]
     },
     "execution_count": 12,
     "metadata": {},
     "output_type": "execute_result"
    }
   ],
   "source": [
    "len(df[df['Class'] == 0])"
   ]
  },
  {
   "cell_type": "code",
   "execution_count": 14,
   "id": "c6d4f6ee",
   "metadata": {
    "execution": {
     "iopub.execute_input": "2022-10-17T11:53:32.333661Z",
     "iopub.status.busy": "2022-10-17T11:53:32.333231Z",
     "iopub.status.idle": "2022-10-17T11:53:32.578625Z",
     "shell.execute_reply": "2022-10-17T11:53:32.577188Z"
    },
    "papermill": {
     "duration": 0.266771,
     "end_time": "2022-10-17T11:53:32.581542",
     "exception": false,
     "start_time": "2022-10-17T11:53:32.314771",
     "status": "completed"
    },
    "tags": []
   },
   "outputs": [
    {
     "data": {
      "image/png": "[encoded data removed]",
      "text/plain": [
       "<Figure size 432x288 with 1 Axes>"
      ]
     },
     "metadata": {
      "needs_background": "light"
     },
     "output_type": "display_data"
    }
   ],
   "source": [
    "ax = sns.countplot(x='Class',data=df)\n",
    "total = float(len(df))\n",
    "for p in ax.patches:\n",
    "    percentage=\"{:.2f}%\".format(100 * p.get_height()/total)\n",
    "    x = p.get_x() + p.get_width()\n",
    "    y = p.get_height()\n",
    "    ax.annotate(percentage, (x, y),ha=\"center\")\n",
    "plt.show()"
   ]
  },
  {
   "cell_type": "code",
   "execution_count": 15,
   "id": "505975f0",
   "metadata": {
    "execution": {
     "iopub.execute_input": "2022-10-17T11:53:32.654022Z",
     "iopub.status.busy": "2022-10-17T11:53:32.653607Z",
     "iopub.status.idle": "2022-10-17T11:53:33.412617Z",
     "shell.execute_reply": "2022-10-17T11:53:33.411356Z"
    },
    "papermill": {
     "duration": 0.780489,
     "end_time": "2022-10-17T11:53:33.415139",
     "exception": false,
     "start_time": "2022-10-17T11:53:32.634650",
     "status": "completed"
    },
    "scrolled": true,
    "tags": []
   },
   "outputs": [
    {
     "data": {
      "text/plain": [
       "V17      -0.326481\n",
       "V14      -0.302544\n",
       "V12      -0.260593\n",
       "V10      -0.216883\n",
       "V16      -0.196539\n",
       "V3       -0.192961\n",
       "V7       -0.187257\n",
       "V18      -0.111485\n",
       "V1       -0.101347\n",
       "V9       -0.097733\n",
       "V5       -0.094974\n",
       "V6       -0.043643\n",
       "V24      -0.007221\n",
       "V13      -0.004570\n",
       "V15      -0.004223\n",
       "V23      -0.002685\n",
       "V22       0.000805\n",
       "V25       0.003308\n",
       "V26       0.004455\n",
       "Amount    0.005632\n",
       "V28       0.009536\n",
       "V27       0.017580\n",
       "V8        0.019875\n",
       "V20       0.020090\n",
       "V19       0.034783\n",
       "V21       0.040413\n",
       "V2        0.091289\n",
       "V4        0.133447\n",
       "V11       0.154876\n",
       "Class     1.000000\n",
       "Name: Class, dtype: float64"
      ]
     },
     "execution_count": 15,
     "metadata": {},
     "output_type": "execute_result"
    }
   ],
   "source": [
    "df.corr()['Class'].sort_values()"
   ]
  },
  {
   "cell_type": "code",
   "execution_count": 16,
   "id": "38d995b0",
   "metadata": {
    "execution": {
     "iopub.execute_input": "2022-10-17T11:53:33.451905Z",
     "iopub.status.busy": "2022-10-17T11:53:33.451502Z",
     "iopub.status.idle": "2022-10-17T11:53:34.645795Z",
     "shell.execute_reply": "2022-10-17T11:53:34.644202Z"
    },
    "papermill": {
     "duration": 1.215933,
     "end_time": "2022-10-17T11:53:34.648754",
     "exception": false,
     "start_time": "2022-10-17T11:53:33.432821",
     "status": "completed"
    },
    "tags": []
   },
   "outputs": [
    {
     "data": {
      "image/png": "[encoded data removed]",
      "text/plain": [
       "<Figure size 1080x576 with 1 Axes>"
      ]
     },
     "metadata": {
      "needs_background": "light"
     },
     "output_type": "display_data"
    }
   ],
   "source": [
    "plt.figure(figsize=(15,8))\n",
    "d = df.corr()['Class'][:-1].abs().sort_values().plot(kind='bar', title='Most important features')\n",
    "\n",
    "plt.show()"
   ]
  },
  {
   "cell_type": "code",
   "execution_count": 17,
   "id": "99bc8d63",
   "metadata": {
    "execution": {
     "iopub.execute_input": "2022-10-17T11:53:34.686261Z",
     "iopub.status.busy": "2022-10-17T11:53:34.685834Z",
     "iopub.status.idle": "2022-10-17T11:53:35.452912Z",
     "shell.execute_reply": "2022-10-17T11:53:35.451224Z"
    },
    "papermill": {
     "duration": 0.791404,
     "end_time": "2022-10-17T11:53:35.458167",
     "exception": false,
     "start_time": "2022-10-17T11:53:34.666763",
     "status": "completed"
    },
    "tags": []
   },
   "outputs": [
    {
     "name": "stdout",
     "output_type": "stream",
     "text": [
      "V1        False\n",
      "V2        False\n",
      "V3         True\n",
      "V4        False\n",
      "V5        False\n",
      "V6        False\n",
      "V7         True\n",
      "V8        False\n",
      "V9        False\n",
      "V10        True\n",
      "V11        True\n",
      "V12        True\n",
      "V13       False\n",
      "V14        True\n",
      "V15       False\n",
      "V16        True\n",
      "V17        True\n",
      "V18       False\n",
      "V19       False\n",
      "V20       False\n",
      "V21       False\n",
      "V22       False\n",
      "V23       False\n",
      "V24       False\n",
      "V25       False\n",
      "V26       False\n",
      "V27       False\n",
      "V28       False\n",
      "Amount    False\n",
      "Name: Class, dtype: bool\n"
     ]
    }
   ],
   "source": [
    "# Let's peak all features with correlation 0.15 and morec = \n",
    "\n",
    "c = df.corr()['Class'][:-1].abs() > 0.15\n",
    "\n",
    "print (c)"
   ]
  },
  {
   "cell_type": "code",
   "execution_count": 18,
   "id": "afe9583d",
   "metadata": {
    "execution": {
     "iopub.execute_input": "2022-10-17T11:53:35.512180Z",
     "iopub.status.busy": "2022-10-17T11:53:35.511396Z",
     "iopub.status.idle": "2022-10-17T11:53:51.047161Z",
     "shell.execute_reply": "2022-10-17T11:53:51.045682Z"
    },
    "papermill": {
     "duration": 15.564852,
     "end_time": "2022-10-17T11:53:51.050450",
     "exception": false,
     "start_time": "2022-10-17T11:53:35.485598",
     "status": "completed"
    },
    "tags": []
   },
   "outputs": [
    {
     "data": {
      "text/plain": [
       "<seaborn.axisgrid.JointGrid at 0x7f1e6d765e10>"
      ]
     },
     "execution_count": 18,
     "metadata": {},
     "output_type": "execute_result"
    },
    {
     "data": {
      "image/png": "[encoded data removed]",
      "text/plain": [
       "<Figure size 432x432 with 3 Axes>"
      ]
     },
     "metadata": {
      "needs_background": "light"
     },
     "output_type": "display_data"
    }
   ],
   "source": [
    "sns.jointplot(x='V17', y='V14',hue='Class', data=df, palette = 'dark')"
   ]
  },
  {
   "cell_type": "code",
   "execution_count": 19,
   "id": "8834607a",
   "metadata": {
    "execution": {
     "iopub.execute_input": "2022-10-17T11:53:51.094168Z",
     "iopub.status.busy": "2022-10-17T11:53:51.093421Z",
     "iopub.status.idle": "2022-10-17T11:54:07.646080Z",
     "shell.execute_reply": "2022-10-17T11:54:07.644423Z"
    },
    "papermill": {
     "duration": 16.578326,
     "end_time": "2022-10-17T11:54:07.649878",
     "exception": false,
     "start_time": "2022-10-17T11:53:51.071552",
     "status": "completed"
    },
    "tags": []
   },
   "outputs": [
    {
     "data": {
      "text/plain": [
       "<seaborn.axisgrid.JointGrid at 0x7f1e6c49c9d0>"
      ]
     },
     "execution_count": 19,
     "metadata": {},
     "output_type": "execute_result"
    },
    {
     "data": {
      "image/png": "[encoded data removed]",
      "text/plain": [
       "<Figure size 432x432 with 3 Axes>"
      ]
     },
     "metadata": {
      "needs_background": "light"
     },
     "output_type": "display_data"
    }
   ],
   "source": [
    "sns.jointplot(x='V17', y='V12',hue='Class', data=df, palette = 'dark')"
   ]
  },
  {
   "cell_type": "code",
   "execution_count": 20,
   "id": "7a87d591",
   "metadata": {
    "execution": {
     "iopub.execute_input": "2022-10-17T11:54:07.696118Z",
     "iopub.status.busy": "2022-10-17T11:54:07.695670Z",
     "iopub.status.idle": "2022-10-17T11:54:23.620964Z",
     "shell.execute_reply": "2022-10-17T11:54:23.619964Z"
    },
    "papermill": {
     "duration": 15.95104,
     "end_time": "2022-10-17T11:54:23.623412",
     "exception": false,
     "start_time": "2022-10-17T11:54:07.672372",
     "status": "completed"
    },
    "tags": []
   },
   "outputs": [
    {
     "data": {
      "text/plain": [
       "<seaborn.axisgrid.JointGrid at 0x7f1e6d7fc9d0>"
      ]
     },
     "execution_count": 20,
     "metadata": {},
     "output_type": "execute_result"
    },
    {
     "data": {
      "image/png": "[encoded data removed]",
      "text/plain": [
       "<Figure size 432x432 with 3 Axes>"
      ]
     },
     "metadata": {
      "needs_background": "light"
     },
     "output_type": "display_data"
    }
   ],
   "source": [
    "sns.jointplot(x='V17', y='V10',hue='Class', data=df, palette = 'dark')"
   ]
  },
  {
   "cell_type": "code",
   "execution_count": 21,
   "id": "90e5788e",
   "metadata": {
    "execution": {
     "iopub.execute_input": "2022-10-17T11:54:23.671744Z",
     "iopub.status.busy": "2022-10-17T11:54:23.671009Z",
     "iopub.status.idle": "2022-10-17T11:54:40.536387Z",
     "shell.execute_reply": "2022-10-17T11:54:40.535124Z"
    },
    "papermill": {
     "duration": 16.891526,
     "end_time": "2022-10-17T11:54:40.539167",
     "exception": false,
     "start_time": "2022-10-17T11:54:23.647641",
     "status": "completed"
    },
    "tags": []
   },
   "outputs": [
    {
     "data": {
      "text/plain": [
       "<seaborn.axisgrid.JointGrid at 0x7f1e6d3bd590>"
      ]
     },
     "execution_count": 21,
     "metadata": {},
     "output_type": "execute_result"
    },
    {
     "data": {
      "image/png": "[encoded data removed]",
      "text/plain": [
       "<Figure size 432x432 with 3 Axes>"
      ]
     },
     "metadata": {
      "needs_background": "light"
     },
     "output_type": "display_data"
    }
   ],
   "source": [
    "sns.jointplot(x='V14', y='V12',hue='Class', data=df, palette = 'dark')"
   ]
  },
  {
   "cell_type": "code",
   "execution_count": 22,
   "id": "90623683",
   "metadata": {
    "execution": {
     "iopub.execute_input": "2022-10-17T11:54:40.731552Z",
     "iopub.status.busy": "2022-10-17T11:54:40.731124Z",
     "iopub.status.idle": "2022-10-17T11:54:43.992828Z",
     "shell.execute_reply": "2022-10-17T11:54:43.991475Z"
    },
    "papermill": {
     "duration": 3.290232,
     "end_time": "2022-10-17T11:54:43.996703",
     "exception": false,
     "start_time": "2022-10-17T11:54:40.706471",
     "status": "completed"
    },
    "tags": []
   },
   "outputs": [
    {
     "data": {
      "image/png": "[encoded data removed]",
      "text/plain": [
       "<Figure size 936x576 with 9 Axes>"
      ]
     },
     "metadata": {
      "needs_background": "light"
     },
     "output_type": "display_data"
    }
   ],
   "source": [
    "fig, axes = plt.subplots(nrows=3, ncols=3,figsize=(13,8))\n",
    "\n",
    "axes[0,0].hist(df['V17'], bins=60, linewidth=0.5, edgecolor=\"white\")\n",
    "axes[0,0].set_title(\"V17 distribution\");\n",
    "\n",
    "axes[0,1].hist(df['V10'], bins=60, linewidth=0.5, edgecolor=\"white\")\n",
    "axes[0,1].set_title(\"V10 distribution\");\n",
    "\n",
    "axes[0,2].hist(df['V12'], bins=60, linewidth=0.5, edgecolor=\"white\")\n",
    "axes[0,2].set_title(\"V12 distribution\");\n",
    "\n",
    "axes[1,0].hist(df['V16'], bins=60, linewidth=0.5, edgecolor=\"white\")\n",
    "axes[1,0].set_title(\"V16 distribution\");\n",
    "\n",
    "axes[1,1].hist(df['V14'], bins=60, linewidth=0.5, edgecolor=\"white\")\n",
    "axes[1,1].set_title(\"V14 distribution\");\n",
    "\n",
    "axes[1,2].hist(df['V3'], bins=60, linewidth=0.5, edgecolor=\"white\")\n",
    "axes[1,2].set_title(\"V3 distribution\");\n",
    "\n",
    "axes[2,0].hist(df['V7'], bins=60, linewidth=0.5, edgecolor=\"white\")\n",
    "axes[2,0].set_title(\"V7 distribution\");\n",
    "\n",
    "axes[2,1].hist(df['V11'], bins=60, linewidth=0.5, edgecolor=\"white\")\n",
    "axes[2,1].set_title(\"V11 distribution\");\n",
    "\n",
    "axes[2,2].hist(df['V4'], bins=60, linewidth=0.5, edgecolor=\"white\")\n",
    "axes[2,2].set_title(\"V4 distribution\");\n",
    "\n",
    "plt.tight_layout()"
   ]
  },
  {
   "cell_type": "code",
   "execution_count": 23,
   "id": "79388b06",
   "metadata": {
    "execution": {
     "iopub.execute_input": "2022-10-17T11:54:44.145040Z",
     "iopub.status.busy": "2022-10-17T11:54:44.144556Z",
     "iopub.status.idle": "2022-10-17T11:54:44.789894Z",
     "shell.execute_reply": "2022-10-17T11:54:44.788101Z"
    },
    "papermill": {
     "duration": 0.674974,
     "end_time": "2022-10-17T11:54:44.792775",
     "exception": false,
     "start_time": "2022-10-17T11:54:44.117801",
     "status": "completed"
    },
    "tags": []
   },
   "outputs": [],
   "source": [
    "def detect_outliers(df,n,features):\n",
    "    \"\"\"\n",
    "    Takes a dataframe df of features and returns an index list corresponding to the observations \n",
    "    containing more than n outliers according to the Tukey IQR method.\n",
    "    \"\"\"\n",
    "    outlier_indices = []\n",
    "    \n",
    "   \n",
    "    for col in features:\n",
    "        \n",
    "        Q1 = np.percentile(df[col], 25)\n",
    "        \n",
    "        Q3 = np.percentile(df[col],75)\n",
    "       \n",
    "        IQR = Q3 - Q1\n",
    "        \n",
    "       \n",
    "        outlier_step = 1.5 * IQR\n",
    "        \n",
    "        \n",
    "        outlier_list_col = df[(df[col] < Q1 - outlier_step) | (df[col] > Q3 + outlier_step )].index\n",
    "        \n",
    "        \n",
    "        outlier_indices.extend(outlier_list_col)\n",
    "        \n",
    "    \n",
    "    outlier_indices = Counter(outlier_indices)        \n",
    "    multiple_outliers = list( k for k, v in outlier_indices.items() if v > n )\n",
    "    \n",
    "    return multiple_outliers   \n",
    "\n",
    "\n",
    "Outliers_IQR = detect_outliers(df,2,['V1', 'V2', 'V3', 'V4', 'V5', 'V6', 'V7', 'V8', 'V9', 'V10', 'V11',\n",
    "       'V12', 'V13', 'V14', 'V15', 'V16', 'V17', 'V18', 'V19', 'V20', 'V21',\n",
    "       'V22', 'V23', 'V24', 'V25', 'V26', 'V27', 'V28', 'Amount'])\n",
    "\n",
    "\n",
    "df_out = df.drop(Outliers_IQR, axis = 0).reset_index(drop=True)"
   ]
  },
  {
   "cell_type": "code",
   "execution_count": 24,
   "id": "0bf7c41f",
   "metadata": {
    "execution": {
     "iopub.execute_input": "2022-10-17T11:54:44.845732Z",
     "iopub.status.busy": "2022-10-17T11:54:44.845019Z",
     "iopub.status.idle": "2022-10-17T11:54:44.850917Z",
     "shell.execute_reply": "2022-10-17T11:54:44.850000Z"
    },
    "papermill": {
     "duration": 0.03698,
     "end_time": "2022-10-17T11:54:44.853825",
     "exception": false,
     "start_time": "2022-10-17T11:54:44.816845",
     "status": "completed"
    },
    "tags": []
   },
   "outputs": [
    {
     "data": {
      "text/plain": [
       "47116"
      ]
     },
     "execution_count": 24,
     "metadata": {},
     "output_type": "execute_result"
    }
   ],
   "source": [
    "len(Outliers_IQR)"
   ]
  },
  {
   "cell_type": "code",
   "execution_count": 25,
   "id": "97bf2ab4",
   "metadata": {
    "execution": {
     "iopub.execute_input": "2022-10-17T11:54:44.905064Z",
     "iopub.status.busy": "2022-10-17T11:54:44.904082Z",
     "iopub.status.idle": "2022-10-17T11:54:45.003063Z",
     "shell.execute_reply": "2022-10-17T11:54:45.002064Z"
    },
    "papermill": {
     "duration": 0.127285,
     "end_time": "2022-10-17T11:54:45.005513",
     "exception": false,
     "start_time": "2022-10-17T11:54:44.878228",
     "status": "completed"
    },
    "tags": []
   },
   "outputs": [
    {
     "data": {
      "text/html": [
       "<div>\n",
       "<style scoped>\n",
       "    .dataframe tbody tr th:only-of-type {\n",
       "        vertical-align: middle;\n",
       "    }\n",
       "\n",
       "    .dataframe tbody tr th {\n",
       "        vertical-align: top;\n",
       "    }\n",
       "\n",
       "    .dataframe thead th {\n",
       "        text-align: right;\n",
       "    }\n",
       "</style>\n",
       "<table border=\"1\" class=\"dataframe\">\n",
       "  <thead>\n",
       "    <tr style=\"text-align: right;\">\n",
       "      <th></th>\n",
       "      <th>V1</th>\n",
       "      <th>V2</th>\n",
       "      <th>V3</th>\n",
       "      <th>V4</th>\n",
       "      <th>V5</th>\n",
       "      <th>V6</th>\n",
       "      <th>V7</th>\n",
       "      <th>V8</th>\n",
       "      <th>V9</th>\n",
       "      <th>V10</th>\n",
       "      <th>...</th>\n",
       "      <th>V21</th>\n",
       "      <th>V22</th>\n",
       "      <th>V23</th>\n",
       "      <th>V24</th>\n",
       "      <th>V25</th>\n",
       "      <th>V26</th>\n",
       "      <th>V27</th>\n",
       "      <th>V28</th>\n",
       "      <th>Amount</th>\n",
       "      <th>Class</th>\n",
       "    </tr>\n",
       "  </thead>\n",
       "  <tbody>\n",
       "    <tr>\n",
       "      <th>0</th>\n",
       "      <td>-1.359807</td>\n",
       "      <td>-0.072781</td>\n",
       "      <td>2.536347</td>\n",
       "      <td>1.378155</td>\n",
       "      <td>-0.338321</td>\n",
       "      <td>0.462388</td>\n",
       "      <td>0.239599</td>\n",
       "      <td>0.098698</td>\n",
       "      <td>0.363787</td>\n",
       "      <td>0.090794</td>\n",
       "      <td>...</td>\n",
       "      <td>-0.018307</td>\n",
       "      <td>0.277838</td>\n",
       "      <td>-0.110474</td>\n",
       "      <td>0.066928</td>\n",
       "      <td>0.128539</td>\n",
       "      <td>-0.189115</td>\n",
       "      <td>0.133558</td>\n",
       "      <td>-0.021053</td>\n",
       "      <td>149.62</td>\n",
       "      <td>0</td>\n",
       "    </tr>\n",
       "    <tr>\n",
       "      <th>1</th>\n",
       "      <td>1.191857</td>\n",
       "      <td>0.266151</td>\n",
       "      <td>0.166480</td>\n",
       "      <td>0.448154</td>\n",
       "      <td>0.060018</td>\n",
       "      <td>-0.082361</td>\n",
       "      <td>-0.078803</td>\n",
       "      <td>0.085102</td>\n",
       "      <td>-0.255425</td>\n",
       "      <td>-0.166974</td>\n",
       "      <td>...</td>\n",
       "      <td>-0.225775</td>\n",
       "      <td>-0.638672</td>\n",
       "      <td>0.101288</td>\n",
       "      <td>-0.339846</td>\n",
       "      <td>0.167170</td>\n",
       "      <td>0.125895</td>\n",
       "      <td>-0.008983</td>\n",
       "      <td>0.014724</td>\n",
       "      <td>2.69</td>\n",
       "      <td>0</td>\n",
       "    </tr>\n",
       "    <tr>\n",
       "      <th>2</th>\n",
       "      <td>-0.966272</td>\n",
       "      <td>-0.185226</td>\n",
       "      <td>1.792993</td>\n",
       "      <td>-0.863291</td>\n",
       "      <td>-0.010309</td>\n",
       "      <td>1.247203</td>\n",
       "      <td>0.237609</td>\n",
       "      <td>0.377436</td>\n",
       "      <td>-1.387024</td>\n",
       "      <td>-0.054952</td>\n",
       "      <td>...</td>\n",
       "      <td>-0.108300</td>\n",
       "      <td>0.005274</td>\n",
       "      <td>-0.190321</td>\n",
       "      <td>-1.175575</td>\n",
       "      <td>0.647376</td>\n",
       "      <td>-0.221929</td>\n",
       "      <td>0.062723</td>\n",
       "      <td>0.061458</td>\n",
       "      <td>123.50</td>\n",
       "      <td>0</td>\n",
       "    </tr>\n",
       "    <tr>\n",
       "      <th>3</th>\n",
       "      <td>-1.158233</td>\n",
       "      <td>0.877737</td>\n",
       "      <td>1.548718</td>\n",
       "      <td>0.403034</td>\n",
       "      <td>-0.407193</td>\n",
       "      <td>0.095921</td>\n",
       "      <td>0.592941</td>\n",
       "      <td>-0.270533</td>\n",
       "      <td>0.817739</td>\n",
       "      <td>0.753074</td>\n",
       "      <td>...</td>\n",
       "      <td>-0.009431</td>\n",
       "      <td>0.798278</td>\n",
       "      <td>-0.137458</td>\n",
       "      <td>0.141267</td>\n",
       "      <td>-0.206010</td>\n",
       "      <td>0.502292</td>\n",
       "      <td>0.219422</td>\n",
       "      <td>0.215153</td>\n",
       "      <td>69.99</td>\n",
       "      <td>0</td>\n",
       "    </tr>\n",
       "    <tr>\n",
       "      <th>4</th>\n",
       "      <td>-0.425966</td>\n",
       "      <td>0.960523</td>\n",
       "      <td>1.141109</td>\n",
       "      <td>-0.168252</td>\n",
       "      <td>0.420987</td>\n",
       "      <td>-0.029728</td>\n",
       "      <td>0.476201</td>\n",
       "      <td>0.260314</td>\n",
       "      <td>-0.568671</td>\n",
       "      <td>-0.371407</td>\n",
       "      <td>...</td>\n",
       "      <td>-0.208254</td>\n",
       "      <td>-0.559825</td>\n",
       "      <td>-0.026398</td>\n",
       "      <td>-0.371427</td>\n",
       "      <td>-0.232794</td>\n",
       "      <td>0.105915</td>\n",
       "      <td>0.253844</td>\n",
       "      <td>0.081080</td>\n",
       "      <td>3.67</td>\n",
       "      <td>0</td>\n",
       "    </tr>\n",
       "    <tr>\n",
       "      <th>...</th>\n",
       "      <td>...</td>\n",
       "      <td>...</td>\n",
       "      <td>...</td>\n",
       "      <td>...</td>\n",
       "      <td>...</td>\n",
       "      <td>...</td>\n",
       "      <td>...</td>\n",
       "      <td>...</td>\n",
       "      <td>...</td>\n",
       "      <td>...</td>\n",
       "      <td>...</td>\n",
       "      <td>...</td>\n",
       "      <td>...</td>\n",
       "      <td>...</td>\n",
       "      <td>...</td>\n",
       "      <td>...</td>\n",
       "      <td>...</td>\n",
       "      <td>...</td>\n",
       "      <td>...</td>\n",
       "      <td>...</td>\n",
       "      <td>...</td>\n",
       "    </tr>\n",
       "    <tr>\n",
       "      <th>237686</th>\n",
       "      <td>0.120316</td>\n",
       "      <td>0.931005</td>\n",
       "      <td>-0.546012</td>\n",
       "      <td>-0.745097</td>\n",
       "      <td>1.130314</td>\n",
       "      <td>-0.235973</td>\n",
       "      <td>0.812722</td>\n",
       "      <td>0.115093</td>\n",
       "      <td>-0.204064</td>\n",
       "      <td>-0.657422</td>\n",
       "      <td>...</td>\n",
       "      <td>-0.314205</td>\n",
       "      <td>-0.808520</td>\n",
       "      <td>0.050343</td>\n",
       "      <td>0.102800</td>\n",
       "      <td>-0.435870</td>\n",
       "      <td>0.124079</td>\n",
       "      <td>0.217940</td>\n",
       "      <td>0.068803</td>\n",
       "      <td>2.69</td>\n",
       "      <td>0</td>\n",
       "    </tr>\n",
       "    <tr>\n",
       "      <th>237687</th>\n",
       "      <td>-0.732789</td>\n",
       "      <td>-0.055080</td>\n",
       "      <td>2.035030</td>\n",
       "      <td>-0.738589</td>\n",
       "      <td>0.868229</td>\n",
       "      <td>1.058415</td>\n",
       "      <td>0.024330</td>\n",
       "      <td>0.294869</td>\n",
       "      <td>0.584800</td>\n",
       "      <td>-0.975926</td>\n",
       "      <td>...</td>\n",
       "      <td>0.214205</td>\n",
       "      <td>0.924384</td>\n",
       "      <td>0.012463</td>\n",
       "      <td>-1.016226</td>\n",
       "      <td>-0.606624</td>\n",
       "      <td>-0.395255</td>\n",
       "      <td>0.068472</td>\n",
       "      <td>-0.053527</td>\n",
       "      <td>24.79</td>\n",
       "      <td>0</td>\n",
       "    </tr>\n",
       "    <tr>\n",
       "      <th>237688</th>\n",
       "      <td>1.919565</td>\n",
       "      <td>-0.301254</td>\n",
       "      <td>-3.249640</td>\n",
       "      <td>-0.557828</td>\n",
       "      <td>2.630515</td>\n",
       "      <td>3.031260</td>\n",
       "      <td>-0.296827</td>\n",
       "      <td>0.708417</td>\n",
       "      <td>0.432454</td>\n",
       "      <td>-0.484782</td>\n",
       "      <td>...</td>\n",
       "      <td>0.232045</td>\n",
       "      <td>0.578229</td>\n",
       "      <td>-0.037501</td>\n",
       "      <td>0.640134</td>\n",
       "      <td>0.265745</td>\n",
       "      <td>-0.087371</td>\n",
       "      <td>0.004455</td>\n",
       "      <td>-0.026561</td>\n",
       "      <td>67.88</td>\n",
       "      <td>0</td>\n",
       "    </tr>\n",
       "    <tr>\n",
       "      <th>237689</th>\n",
       "      <td>-0.240440</td>\n",
       "      <td>0.530483</td>\n",
       "      <td>0.702510</td>\n",
       "      <td>0.689799</td>\n",
       "      <td>-0.377961</td>\n",
       "      <td>0.623708</td>\n",
       "      <td>-0.686180</td>\n",
       "      <td>0.679145</td>\n",
       "      <td>0.392087</td>\n",
       "      <td>-0.399126</td>\n",
       "      <td>...</td>\n",
       "      <td>0.265245</td>\n",
       "      <td>0.800049</td>\n",
       "      <td>-0.163298</td>\n",
       "      <td>0.123205</td>\n",
       "      <td>-0.569159</td>\n",
       "      <td>0.546668</td>\n",
       "      <td>0.108821</td>\n",
       "      <td>0.104533</td>\n",
       "      <td>10.00</td>\n",
       "      <td>0</td>\n",
       "    </tr>\n",
       "    <tr>\n",
       "      <th>237690</th>\n",
       "      <td>-0.533413</td>\n",
       "      <td>-0.189733</td>\n",
       "      <td>0.703337</td>\n",
       "      <td>-0.506271</td>\n",
       "      <td>-0.012546</td>\n",
       "      <td>-0.649617</td>\n",
       "      <td>1.577006</td>\n",
       "      <td>-0.414650</td>\n",
       "      <td>0.486180</td>\n",
       "      <td>-0.915427</td>\n",
       "      <td>...</td>\n",
       "      <td>0.261057</td>\n",
       "      <td>0.643078</td>\n",
       "      <td>0.376777</td>\n",
       "      <td>0.008797</td>\n",
       "      <td>-0.473649</td>\n",
       "      <td>-0.818267</td>\n",
       "      <td>-0.002415</td>\n",
       "      <td>0.013649</td>\n",
       "      <td>217.00</td>\n",
       "      <td>0</td>\n",
       "    </tr>\n",
       "  </tbody>\n",
       "</table>\n",
       "<p>237691 rows × 30 columns</p>\n",
       "</div>"
      ],
      "text/plain": [
       "              V1        V2        V3        V4        V5        V6        V7  \\\n",
       "0      -1.359807 -0.072781  2.536347  1.378155 -0.338321  0.462388  0.239599   \n",
       "1       1.191857  0.266151  0.166480  0.448154  0.060018 -0.082361 -0.078803   \n",
       "2      -0.966272 -0.185226  1.792993 -0.863291 -0.010309  1.247203  0.237609   \n",
       "3      -1.158233  0.877737  1.548718  0.403034 -0.407193  0.095921  0.592941   \n",
       "4      -0.425966  0.960523  1.141109 -0.168252  0.420987 -0.029728  0.476201   \n",
       "...          ...       ...       ...       ...       ...       ...       ...   \n",
       "237686  0.120316  0.931005 -0.546012 -0.745097  1.130314 -0.235973  0.812722   \n",
       "237687 -0.732789 -0.055080  2.035030 -0.738589  0.868229  1.058415  0.024330   \n",
       "237688  1.919565 -0.301254 -3.249640 -0.557828  2.630515  3.031260 -0.296827   \n",
       "237689 -0.240440  0.530483  0.702510  0.689799 -0.377961  0.623708 -0.686180   \n",
       "237690 -0.533413 -0.189733  0.703337 -0.506271 -0.012546 -0.649617  1.577006   \n",
       "\n",
       "              V8        V9       V10  ...       V21       V22       V23  \\\n",
       "0       0.098698  0.363787  0.090794  ... -0.018307  0.277838 -0.110474   \n",
       "1       0.085102 -0.255425 -0.166974  ... -0.225775 -0.638672  0.101288   \n",
       "2       0.377436 -1.387024 -0.054952  ... -0.108300  0.005274 -0.190321   \n",
       "3      -0.270533  0.817739  0.753074  ... -0.009431  0.798278 -0.137458   \n",
       "4       0.260314 -0.568671 -0.371407  ... -0.208254 -0.559825 -0.026398   \n",
       "...          ...       ...       ...  ...       ...       ...       ...   \n",
       "237686  0.115093 -0.204064 -0.657422  ... -0.314205 -0.808520  0.050343   \n",
       "237687  0.294869  0.584800 -0.975926  ...  0.214205  0.924384  0.012463   \n",
       "237688  0.708417  0.432454 -0.484782  ...  0.232045  0.578229 -0.037501   \n",
       "237689  0.679145  0.392087 -0.399126  ...  0.265245  0.800049 -0.163298   \n",
       "237690 -0.414650  0.486180 -0.915427  ...  0.261057  0.643078  0.376777   \n",
       "\n",
       "             V24       V25       V26       V27       V28  Amount  Class  \n",
       "0       0.066928  0.128539 -0.189115  0.133558 -0.021053  149.62      0  \n",
       "1      -0.339846  0.167170  0.125895 -0.008983  0.014724    2.69      0  \n",
       "2      -1.175575  0.647376 -0.221929  0.062723  0.061458  123.50      0  \n",
       "3       0.141267 -0.206010  0.502292  0.219422  0.215153   69.99      0  \n",
       "4      -0.371427 -0.232794  0.105915  0.253844  0.081080    3.67      0  \n",
       "...          ...       ...       ...       ...       ...     ...    ...  \n",
       "237686  0.102800 -0.435870  0.124079  0.217940  0.068803    2.69      0  \n",
       "237687 -1.016226 -0.606624 -0.395255  0.068472 -0.053527   24.79      0  \n",
       "237688  0.640134  0.265745 -0.087371  0.004455 -0.026561   67.88      0  \n",
       "237689  0.123205 -0.569159  0.546668  0.108821  0.104533   10.00      0  \n",
       "237690  0.008797 -0.473649 -0.818267 -0.002415  0.013649  217.00      0  \n",
       "\n",
       "[237691 rows x 30 columns]"
      ]
     },
     "execution_count": 25,
     "metadata": {},
     "output_type": "execute_result"
    }
   ],
   "source": [
    "df_out"
   ]
  },
  {
   "cell_type": "code",
   "execution_count": 26,
   "id": "cafb40aa",
   "metadata": {
    "execution": {
     "iopub.execute_input": "2022-10-17T11:54:45.058727Z",
     "iopub.status.busy": "2022-10-17T11:54:45.058008Z",
     "iopub.status.idle": "2022-10-17T11:54:48.202458Z",
     "shell.execute_reply": "2022-10-17T11:54:48.201308Z"
    },
    "papermill": {
     "duration": 3.177247,
     "end_time": "2022-10-17T11:54:48.207529",
     "exception": false,
     "start_time": "2022-10-17T11:54:45.030282",
     "status": "completed"
    },
    "tags": []
   },
   "outputs": [
    {
     "data": {
      "image/png": "[encoded data removed]",
      "text/plain": [
       "<Figure size 936x576 with 9 Axes>"
      ]
     },
     "metadata": {
      "needs_background": "light"
     },
     "output_type": "display_data"
    }
   ],
   "source": [
    "\n",
    "fig, axes = plt.subplots(nrows=3, ncols=3,figsize=(13,8))\n",
    "\n",
    "axes[0,0].hist(df_out['V17'], bins=60, linewidth=0.5, edgecolor=\"white\")\n",
    "axes[0,0].set_title(\"V17 distribution\");\n",
    "\n",
    "axes[0,1].hist(df_out['V10'], bins=60, linewidth=0.5, edgecolor=\"white\")\n",
    "axes[0,1].set_title(\"V10 distribution\");\n",
    "\n",
    "axes[0,2].hist(df_out['V12'], bins=60, linewidth=0.5, edgecolor=\"white\")\n",
    "axes[0,2].set_title(\"V12 distribution\");\n",
    "\n",
    "axes[1,0].hist(df_out['V16'], bins=60, linewidth=0.5, edgecolor=\"white\")\n",
    "axes[1,0].set_title(\"V16 distribution\");\n",
    "\n",
    "axes[1,1].hist(df_out['V14'], bins=60, linewidth=0.5, edgecolor=\"white\")\n",
    "axes[1,1].set_title(\"V14 distribution\");\n",
    "\n",
    "axes[1,2].hist(df_out['V3'], bins=60, linewidth=0.5, edgecolor=\"white\")\n",
    "axes[1,2].set_title(\"V3 distribution\");\n",
    "\n",
    "axes[2,0].hist(df_out['V7'], bins=60, linewidth=0.5, edgecolor=\"white\")\n",
    "axes[2,0].set_title(\"V7 distribution\");\n",
    "\n",
    "axes[2,1].hist(df_out['V11'], bins=60, linewidth=0.5, edgecolor=\"white\")\n",
    "axes[2,1].set_title(\"V11 distribution\");\n",
    "\n",
    "axes[2,2].hist(df_out['V4'], bins=60, linewidth=0.5, edgecolor=\"white\")\n",
    "axes[2,2].set_title(\"V4 distribution\");\n",
    "\n",
    "plt.tight_layout()"
   ]
  },
  {
   "cell_type": "markdown",
   "id": "6a8e2a9d",
   "metadata": {
    "papermill": {
     "duration": 0.026071,
     "end_time": "2022-10-17T11:54:48.273400",
     "exception": false,
     "start_time": "2022-10-17T11:54:48.247329",
     "status": "completed"
    },
    "tags": []
   },
   "source": [
    "Now features look much more \"normal\"!"
   ]
  },
  {
   "cell_type": "code",
   "execution_count": 28,
   "id": "416b8cd6",
   "metadata": {
    "execution": {
     "iopub.execute_input": "2022-10-17T11:54:48.392540Z",
     "iopub.status.busy": "2022-10-17T11:54:48.391993Z",
     "iopub.status.idle": "2022-10-17T11:54:48.401174Z",
     "shell.execute_reply": "2022-10-17T11:54:48.399408Z"
    },
    "papermill": {
     "duration": 0.042725,
     "end_time": "2022-10-17T11:54:48.404581",
     "exception": false,
     "start_time": "2022-10-17T11:54:48.361856",
     "status": "completed"
    },
    "tags": []
   },
   "outputs": [
    {
     "name": "stdout",
     "output_type": "stream",
     "text": [
      "The amount of frauds in df before dropping outliers:  492\n"
     ]
    }
   ],
   "source": [
    "print ('The amount of frauds in df before dropping outliers: ', len(df[df['Class'] == 1]))"
   ]
  },
  {
   "cell_type": "code",
   "execution_count": 29,
   "id": "f38f7c4a",
   "metadata": {
    "execution": {
     "iopub.execute_input": "2022-10-17T11:54:48.459380Z",
     "iopub.status.busy": "2022-10-17T11:54:48.458929Z",
     "iopub.status.idle": "2022-10-17T11:54:48.467041Z",
     "shell.execute_reply": "2022-10-17T11:54:48.465873Z"
    },
    "papermill": {
     "duration": 0.038119,
     "end_time": "2022-10-17T11:54:48.469393",
     "exception": false,
     "start_time": "2022-10-17T11:54:48.431274",
     "status": "completed"
    },
    "scrolled": true,
    "tags": []
   },
   "outputs": [
    {
     "name": "stdout",
     "output_type": "stream",
     "text": [
      "The amount of frauds in df afret dropping outliers:  43\n"
     ]
    }
   ],
   "source": [
    "print ('The amount of frauds in df afret dropping outliers: ', len(df_out[df_out['Class'] == 1]))"
   ]
  },
  {
   "cell_type": "code",
   "execution_count": 30,
   "id": "e3947c82",
   "metadata": {
    "execution": {
     "iopub.execute_input": "2022-10-17T11:54:48.574963Z",
     "iopub.status.busy": "2022-10-17T11:54:48.574533Z",
     "iopub.status.idle": "2022-10-17T11:54:48.603810Z",
     "shell.execute_reply": "2022-10-17T11:54:48.602450Z"
    },
    "papermill": {
     "duration": 0.059629,
     "end_time": "2022-10-17T11:54:48.606752",
     "exception": false,
     "start_time": "2022-10-17T11:54:48.547123",
     "status": "completed"
    },
    "tags": []
   },
   "outputs": [],
   "source": [
    "Outliers_df2 = df.loc[df.index[Outliers_IQR]]"
   ]
  },
  {
   "cell_type": "code",
   "execution_count": 31,
   "id": "fb579fc3",
   "metadata": {
    "execution": {
     "iopub.execute_input": "2022-10-17T11:54:48.660377Z",
     "iopub.status.busy": "2022-10-17T11:54:48.659979Z",
     "iopub.status.idle": "2022-10-17T11:54:48.666672Z",
     "shell.execute_reply": "2022-10-17T11:54:48.665687Z"
    },
    "papermill": {
     "duration": 0.036357,
     "end_time": "2022-10-17T11:54:48.668832",
     "exception": false,
     "start_time": "2022-10-17T11:54:48.632475",
     "status": "completed"
    },
    "tags": []
   },
   "outputs": [
    {
     "data": {
      "text/plain": [
       "47116"
      ]
     },
     "execution_count": 31,
     "metadata": {},
     "output_type": "execute_result"
    }
   ],
   "source": [
    "len(Outliers_df2)"
   ]
  },
  {
   "cell_type": "code",
   "execution_count": 32,
   "id": "d31ee363",
   "metadata": {
    "execution": {
     "iopub.execute_input": "2022-10-17T11:54:48.722379Z",
     "iopub.status.busy": "2022-10-17T11:54:48.721984Z",
     "iopub.status.idle": "2022-10-17T11:54:48.763281Z",
     "shell.execute_reply": "2022-10-17T11:54:48.761381Z"
    },
    "papermill": {
     "duration": 0.07115,
     "end_time": "2022-10-17T11:54:48.765956",
     "exception": false,
     "start_time": "2022-10-17T11:54:48.694806",
     "status": "completed"
    },
    "tags": []
   },
   "outputs": [
    {
     "data": {
      "text/html": [
       "<div>\n",
       "<style scoped>\n",
       "    .dataframe tbody tr th:only-of-type {\n",
       "        vertical-align: middle;\n",
       "    }\n",
       "\n",
       "    .dataframe tbody tr th {\n",
       "        vertical-align: top;\n",
       "    }\n",
       "\n",
       "    .dataframe thead th {\n",
       "        text-align: right;\n",
       "    }\n",
       "</style>\n",
       "<table border=\"1\" class=\"dataframe\">\n",
       "  <thead>\n",
       "    <tr style=\"text-align: right;\">\n",
       "      <th></th>\n",
       "      <th>V1</th>\n",
       "      <th>V2</th>\n",
       "      <th>V3</th>\n",
       "      <th>V4</th>\n",
       "      <th>V5</th>\n",
       "      <th>V6</th>\n",
       "      <th>V7</th>\n",
       "      <th>V8</th>\n",
       "      <th>V9</th>\n",
       "      <th>V10</th>\n",
       "      <th>...</th>\n",
       "      <th>V21</th>\n",
       "      <th>V22</th>\n",
       "      <th>V23</th>\n",
       "      <th>V24</th>\n",
       "      <th>V25</th>\n",
       "      <th>V26</th>\n",
       "      <th>V27</th>\n",
       "      <th>V28</th>\n",
       "      <th>Amount</th>\n",
       "      <th>Class</th>\n",
       "    </tr>\n",
       "  </thead>\n",
       "  <tbody>\n",
       "    <tr>\n",
       "      <th>18</th>\n",
       "      <td>-5.401258</td>\n",
       "      <td>-5.450148</td>\n",
       "      <td>1.186305</td>\n",
       "      <td>1.736239</td>\n",
       "      <td>3.049106</td>\n",
       "      <td>-1.763406</td>\n",
       "      <td>-1.559738</td>\n",
       "      <td>0.160842</td>\n",
       "      <td>1.233090</td>\n",
       "      <td>0.345173</td>\n",
       "      <td>...</td>\n",
       "      <td>-0.503600</td>\n",
       "      <td>0.984460</td>\n",
       "      <td>2.458589</td>\n",
       "      <td>0.042119</td>\n",
       "      <td>-0.481631</td>\n",
       "      <td>-0.621272</td>\n",
       "      <td>0.392053</td>\n",
       "      <td>0.949594</td>\n",
       "      <td>46.80</td>\n",
       "      <td>0</td>\n",
       "    </tr>\n",
       "    <tr>\n",
       "      <th>85</th>\n",
       "      <td>-4.575093</td>\n",
       "      <td>-4.429184</td>\n",
       "      <td>3.402585</td>\n",
       "      <td>0.903915</td>\n",
       "      <td>3.002224</td>\n",
       "      <td>-0.491078</td>\n",
       "      <td>-2.705393</td>\n",
       "      <td>0.666451</td>\n",
       "      <td>1.922216</td>\n",
       "      <td>-0.614312</td>\n",
       "      <td>...</td>\n",
       "      <td>-0.047365</td>\n",
       "      <td>0.853360</td>\n",
       "      <td>-0.971600</td>\n",
       "      <td>-0.114862</td>\n",
       "      <td>0.408300</td>\n",
       "      <td>-0.304576</td>\n",
       "      <td>0.547785</td>\n",
       "      <td>-0.456297</td>\n",
       "      <td>200.01</td>\n",
       "      <td>0</td>\n",
       "    </tr>\n",
       "    <tr>\n",
       "      <th>140</th>\n",
       "      <td>-5.101877</td>\n",
       "      <td>1.897022</td>\n",
       "      <td>-3.458034</td>\n",
       "      <td>-1.277543</td>\n",
       "      <td>-5.517758</td>\n",
       "      <td>2.098366</td>\n",
       "      <td>3.329603</td>\n",
       "      <td>1.250966</td>\n",
       "      <td>0.271501</td>\n",
       "      <td>-0.305483</td>\n",
       "      <td>...</td>\n",
       "      <td>-0.871744</td>\n",
       "      <td>-0.678879</td>\n",
       "      <td>-0.555900</td>\n",
       "      <td>-0.761660</td>\n",
       "      <td>0.066611</td>\n",
       "      <td>0.767227</td>\n",
       "      <td>0.731634</td>\n",
       "      <td>-0.860310</td>\n",
       "      <td>919.60</td>\n",
       "      <td>0</td>\n",
       "    </tr>\n",
       "    <tr>\n",
       "      <th>146</th>\n",
       "      <td>-5.285971</td>\n",
       "      <td>4.847323</td>\n",
       "      <td>-1.290368</td>\n",
       "      <td>-1.427842</td>\n",
       "      <td>-0.621533</td>\n",
       "      <td>-0.604691</td>\n",
       "      <td>0.437866</td>\n",
       "      <td>0.336384</td>\n",
       "      <td>3.558373</td>\n",
       "      <td>6.427802</td>\n",
       "      <td>...</td>\n",
       "      <td>-0.923604</td>\n",
       "      <td>-1.171187</td>\n",
       "      <td>0.150872</td>\n",
       "      <td>-0.493322</td>\n",
       "      <td>1.050554</td>\n",
       "      <td>0.194865</td>\n",
       "      <td>2.490503</td>\n",
       "      <td>1.575380</td>\n",
       "      <td>8.95</td>\n",
       "      <td>0</td>\n",
       "    </tr>\n",
       "    <tr>\n",
       "      <th>164</th>\n",
       "      <td>-6.093248</td>\n",
       "      <td>-12.114213</td>\n",
       "      <td>-5.694973</td>\n",
       "      <td>3.294389</td>\n",
       "      <td>-1.413792</td>\n",
       "      <td>4.776000</td>\n",
       "      <td>4.808426</td>\n",
       "      <td>-0.228197</td>\n",
       "      <td>-0.525896</td>\n",
       "      <td>-1.724899</td>\n",
       "      <td>...</td>\n",
       "      <td>2.228823</td>\n",
       "      <td>-2.264037</td>\n",
       "      <td>-3.553381</td>\n",
       "      <td>1.215279</td>\n",
       "      <td>-0.406073</td>\n",
       "      <td>-0.653384</td>\n",
       "      <td>-0.711222</td>\n",
       "      <td>0.672900</td>\n",
       "      <td>3828.04</td>\n",
       "      <td>0</td>\n",
       "    </tr>\n",
       "    <tr>\n",
       "      <th>...</th>\n",
       "      <td>...</td>\n",
       "      <td>...</td>\n",
       "      <td>...</td>\n",
       "      <td>...</td>\n",
       "      <td>...</td>\n",
       "      <td>...</td>\n",
       "      <td>...</td>\n",
       "      <td>...</td>\n",
       "      <td>...</td>\n",
       "      <td>...</td>\n",
       "      <td>...</td>\n",
       "      <td>...</td>\n",
       "      <td>...</td>\n",
       "      <td>...</td>\n",
       "      <td>...</td>\n",
       "      <td>...</td>\n",
       "      <td>...</td>\n",
       "      <td>...</td>\n",
       "      <td>...</td>\n",
       "      <td>...</td>\n",
       "      <td>...</td>\n",
       "    </tr>\n",
       "    <tr>\n",
       "      <th>275573</th>\n",
       "      <td>-2.796570</td>\n",
       "      <td>-1.602426</td>\n",
       "      <td>0.553124</td>\n",
       "      <td>-0.972816</td>\n",
       "      <td>-0.090899</td>\n",
       "      <td>0.423694</td>\n",
       "      <td>0.037604</td>\n",
       "      <td>0.500683</td>\n",
       "      <td>-1.163213</td>\n",
       "      <td>-0.218494</td>\n",
       "      <td>...</td>\n",
       "      <td>-0.766574</td>\n",
       "      <td>-1.794549</td>\n",
       "      <td>-0.536869</td>\n",
       "      <td>0.233628</td>\n",
       "      <td>0.208626</td>\n",
       "      <td>-0.435249</td>\n",
       "      <td>0.509353</td>\n",
       "      <td>-0.512349</td>\n",
       "      <td>283.20</td>\n",
       "      <td>0</td>\n",
       "    </tr>\n",
       "    <tr>\n",
       "      <th>277296</th>\n",
       "      <td>-0.514141</td>\n",
       "      <td>0.949264</td>\n",
       "      <td>-1.164256</td>\n",
       "      <td>-0.687624</td>\n",
       "      <td>0.784550</td>\n",
       "      <td>1.162172</td>\n",
       "      <td>1.753924</td>\n",
       "      <td>-0.052698</td>\n",
       "      <td>0.015033</td>\n",
       "      <td>-0.785415</td>\n",
       "      <td>...</td>\n",
       "      <td>-0.209018</td>\n",
       "      <td>-0.107877</td>\n",
       "      <td>0.148562</td>\n",
       "      <td>-0.421933</td>\n",
       "      <td>-0.589293</td>\n",
       "      <td>0.238553</td>\n",
       "      <td>-0.676694</td>\n",
       "      <td>-0.584556</td>\n",
       "      <td>195.40</td>\n",
       "      <td>0</td>\n",
       "    </tr>\n",
       "    <tr>\n",
       "      <th>277581</th>\n",
       "      <td>-0.112954</td>\n",
       "      <td>0.944074</td>\n",
       "      <td>-2.352370</td>\n",
       "      <td>0.944593</td>\n",
       "      <td>0.767084</td>\n",
       "      <td>-0.491613</td>\n",
       "      <td>1.898752</td>\n",
       "      <td>0.062521</td>\n",
       "      <td>-1.224329</td>\n",
       "      <td>0.218670</td>\n",
       "      <td>...</td>\n",
       "      <td>0.714246</td>\n",
       "      <td>1.895837</td>\n",
       "      <td>0.441559</td>\n",
       "      <td>0.729273</td>\n",
       "      <td>-1.048663</td>\n",
       "      <td>-0.415093</td>\n",
       "      <td>0.407531</td>\n",
       "      <td>0.354169</td>\n",
       "      <td>197.72</td>\n",
       "      <td>0</td>\n",
       "    </tr>\n",
       "    <tr>\n",
       "      <th>280989</th>\n",
       "      <td>-0.303032</td>\n",
       "      <td>0.515443</td>\n",
       "      <td>-2.395964</td>\n",
       "      <td>-0.052680</td>\n",
       "      <td>0.454179</td>\n",
       "      <td>-1.607054</td>\n",
       "      <td>2.039611</td>\n",
       "      <td>-0.188682</td>\n",
       "      <td>-0.446324</td>\n",
       "      <td>-0.439347</td>\n",
       "      <td>...</td>\n",
       "      <td>0.671690</td>\n",
       "      <td>1.721186</td>\n",
       "      <td>0.444797</td>\n",
       "      <td>-0.004811</td>\n",
       "      <td>-1.012256</td>\n",
       "      <td>-0.141775</td>\n",
       "      <td>0.369032</td>\n",
       "      <td>0.314705</td>\n",
       "      <td>214.20</td>\n",
       "      <td>0</td>\n",
       "    </tr>\n",
       "    <tr>\n",
       "      <th>281871</th>\n",
       "      <td>-2.487876</td>\n",
       "      <td>-0.180996</td>\n",
       "      <td>-2.784969</td>\n",
       "      <td>1.148349</td>\n",
       "      <td>0.433573</td>\n",
       "      <td>0.130086</td>\n",
       "      <td>1.745867</td>\n",
       "      <td>0.350981</td>\n",
       "      <td>-0.985010</td>\n",
       "      <td>0.102361</td>\n",
       "      <td>...</td>\n",
       "      <td>0.143515</td>\n",
       "      <td>0.863195</td>\n",
       "      <td>-0.285355</td>\n",
       "      <td>-1.274126</td>\n",
       "      <td>-0.101933</td>\n",
       "      <td>-0.299882</td>\n",
       "      <td>0.724915</td>\n",
       "      <td>-0.444371</td>\n",
       "      <td>280.00</td>\n",
       "      <td>0</td>\n",
       "    </tr>\n",
       "  </tbody>\n",
       "</table>\n",
       "<p>47116 rows × 30 columns</p>\n",
       "</div>"
      ],
      "text/plain": [
       "              V1         V2        V3        V4        V5        V6        V7  \\\n",
       "18     -5.401258  -5.450148  1.186305  1.736239  3.049106 -1.763406 -1.559738   \n",
       "85     -4.575093  -4.429184  3.402585  0.903915  3.002224 -0.491078 -2.705393   \n",
       "140    -5.101877   1.897022 -3.458034 -1.277543 -5.517758  2.098366  3.329603   \n",
       "146    -5.285971   4.847323 -1.290368 -1.427842 -0.621533 -0.604691  0.437866   \n",
       "164    -6.093248 -12.114213 -5.694973  3.294389 -1.413792  4.776000  4.808426   \n",
       "...          ...        ...       ...       ...       ...       ...       ...   \n",
       "275573 -2.796570  -1.602426  0.553124 -0.972816 -0.090899  0.423694  0.037604   \n",
       "277296 -0.514141   0.949264 -1.164256 -0.687624  0.784550  1.162172  1.753924   \n",
       "277581 -0.112954   0.944074 -2.352370  0.944593  0.767084 -0.491613  1.898752   \n",
       "280989 -0.303032   0.515443 -2.395964 -0.052680  0.454179 -1.607054  2.039611   \n",
       "281871 -2.487876  -0.180996 -2.784969  1.148349  0.433573  0.130086  1.745867   \n",
       "\n",
       "              V8        V9       V10  ...       V21       V22       V23  \\\n",
       "18      0.160842  1.233090  0.345173  ... -0.503600  0.984460  2.458589   \n",
       "85      0.666451  1.922216 -0.614312  ... -0.047365  0.853360 -0.971600   \n",
       "140     1.250966  0.271501 -0.305483  ... -0.871744 -0.678879 -0.555900   \n",
       "146     0.336384  3.558373  6.427802  ... -0.923604 -1.171187  0.150872   \n",
       "164    -0.228197 -0.525896 -1.724899  ...  2.228823 -2.264037 -3.553381   \n",
       "...          ...       ...       ...  ...       ...       ...       ...   \n",
       "275573  0.500683 -1.163213 -0.218494  ... -0.766574 -1.794549 -0.536869   \n",
       "277296 -0.052698  0.015033 -0.785415  ... -0.209018 -0.107877  0.148562   \n",
       "277581  0.062521 -1.224329  0.218670  ...  0.714246  1.895837  0.441559   \n",
       "280989 -0.188682 -0.446324 -0.439347  ...  0.671690  1.721186  0.444797   \n",
       "281871  0.350981 -0.985010  0.102361  ...  0.143515  0.863195 -0.285355   \n",
       "\n",
       "             V24       V25       V26       V27       V28   Amount  Class  \n",
       "18      0.042119 -0.481631 -0.621272  0.392053  0.949594    46.80      0  \n",
       "85     -0.114862  0.408300 -0.304576  0.547785 -0.456297   200.01      0  \n",
       "140    -0.761660  0.066611  0.767227  0.731634 -0.860310   919.60      0  \n",
       "146    -0.493322  1.050554  0.194865  2.490503  1.575380     8.95      0  \n",
       "164     1.215279 -0.406073 -0.653384 -0.711222  0.672900  3828.04      0  \n",
       "...          ...       ...       ...       ...       ...      ...    ...  \n",
       "275573  0.233628  0.208626 -0.435249  0.509353 -0.512349   283.20      0  \n",
       "277296 -0.421933 -0.589293  0.238553 -0.676694 -0.584556   195.40      0  \n",
       "277581  0.729273 -1.048663 -0.415093  0.407531  0.354169   197.72      0  \n",
       "280989 -0.004811 -1.012256 -0.141775  0.369032  0.314705   214.20      0  \n",
       "281871 -1.274126 -0.101933 -0.299882  0.724915 -0.444371   280.00      0  \n",
       "\n",
       "[47116 rows x 30 columns]"
      ]
     },
     "execution_count": 32,
     "metadata": {},
     "output_type": "execute_result"
    }
   ],
   "source": [
    "Outliers_df2"
   ]
  },
  {
   "cell_type": "code",
   "execution_count": 33,
   "id": "4d70f640",
   "metadata": {
    "execution": {
     "iopub.execute_input": "2022-10-17T11:54:48.929575Z",
     "iopub.status.busy": "2022-10-17T11:54:48.928704Z",
     "iopub.status.idle": "2022-10-17T11:54:49.190574Z",
     "shell.execute_reply": "2022-10-17T11:54:49.189464Z"
    },
    "papermill": {
     "duration": 0.293052,
     "end_time": "2022-10-17T11:54:49.193270",
     "exception": false,
     "start_time": "2022-10-17T11:54:48.900218",
     "status": "completed"
    },
    "tags": []
   },
   "outputs": [],
   "source": [
    "\n",
    "\n",
    "X = Outliers_df2.drop('Class',axis=1).values\n",
    "y = Outliers_df2['Class'].values\n",
    "\n",
    "from sklearn.model_selection import train_test_split\n",
    "X_train, X_test, y_train, y_test = train_test_split(X,y,test_size=0.25,random_state=42)"
   ]
  },
  {
   "cell_type": "code",
   "execution_count": 34,
   "id": "a9c2ed26",
   "metadata": {
    "execution": {
     "iopub.execute_input": "2022-10-17T11:54:49.249942Z",
     "iopub.status.busy": "2022-10-17T11:54:49.249020Z",
     "iopub.status.idle": "2022-10-17T11:54:49.264673Z",
     "shell.execute_reply": "2022-10-17T11:54:49.263657Z"
    },
    "papermill": {
     "duration": 0.04756,
     "end_time": "2022-10-17T11:54:49.267388",
     "exception": false,
     "start_time": "2022-10-17T11:54:49.219828",
     "status": "completed"
    },
    "tags": []
   },
   "outputs": [
    {
     "data": {
      "text/plain": [
       "MinMaxScaler()"
      ]
     },
     "execution_count": 34,
     "metadata": {},
     "output_type": "execute_result"
    }
   ],
   "source": [
    "\n",
    "\n",
    "from sklearn.preprocessing import MinMaxScaler\n",
    "scaler = MinMaxScaler()\n",
    "scaler.fit(X_train)"
   ]
  },
  {
   "cell_type": "code",
   "execution_count": 35,
   "id": "ae37a4fb",
   "metadata": {
    "execution": {
     "iopub.execute_input": "2022-10-17T11:54:49.324735Z",
     "iopub.status.busy": "2022-10-17T11:54:49.324269Z",
     "iopub.status.idle": "2022-10-17T11:54:49.336676Z",
     "shell.execute_reply": "2022-10-17T11:54:49.335461Z"
    },
    "papermill": {
     "duration": 0.044971,
     "end_time": "2022-10-17T11:54:49.339328",
     "exception": false,
     "start_time": "2022-10-17T11:54:49.294357",
     "status": "completed"
    },
    "tags": []
   },
   "outputs": [],
   "source": [
    "X_train = scaler.transform(X_train)\n",
    "X_test = scaler.transform(X_test)"
   ]
  },
  {
   "cell_type": "code",
   "execution_count": 36,
   "id": "6c88fddd",
   "metadata": {
    "execution": {
     "iopub.execute_input": "2022-10-17T11:54:49.396590Z",
     "iopub.status.busy": "2022-10-17T11:54:49.396138Z",
     "iopub.status.idle": "2022-10-17T11:54:55.867516Z",
     "shell.execute_reply": "2022-10-17T11:54:55.866381Z"
    },
    "papermill": {
     "duration": 6.503543,
     "end_time": "2022-10-17T11:54:55.871140",
     "exception": false,
     "start_time": "2022-10-17T11:54:49.367597",
     "status": "completed"
    },
    "tags": []
   },
   "outputs": [],
   "source": [
    "import tensorflow as tf\n",
    "from tensorflow.keras.models import Sequential\n",
    "from tensorflow.keras.layers import Dense, Activation, Dropout"
   ]
  },
  {
   "cell_type": "code",
   "execution_count": 37,
   "id": "e496ea0f",
   "metadata": {
    "execution": {
     "iopub.execute_input": "2022-10-17T11:54:55.930697Z",
     "iopub.status.busy": "2022-10-17T11:54:55.929884Z",
     "iopub.status.idle": "2022-10-17T11:54:55.938900Z",
     "shell.execute_reply": "2022-10-17T11:54:55.937521Z"
    },
    "papermill": {
     "duration": 0.041904,
     "end_time": "2022-10-17T11:54:55.941603",
     "exception": false,
     "start_time": "2022-10-17T11:54:55.899699",
     "status": "completed"
    },
    "tags": []
   },
   "outputs": [
    {
     "data": {
      "text/plain": [
       "(35337, 29)"
      ]
     },
     "execution_count": 37,
     "metadata": {},
     "output_type": "execute_result"
    }
   ],
   "source": [
    "X_train.shape"
   ]
  },
  {
   "cell_type": "code",
   "execution_count": 38,
   "id": "6ff433a7",
   "metadata": {
    "execution": {
     "iopub.execute_input": "2022-10-17T11:54:55.999405Z",
     "iopub.status.busy": "2022-10-17T11:54:55.998211Z",
     "iopub.status.idle": "2022-10-17T11:54:56.101684Z",
     "shell.execute_reply": "2022-10-17T11:54:56.100668Z"
    },
    "papermill": {
     "duration": 0.135108,
     "end_time": "2022-10-17T11:54:56.104010",
     "exception": false,
     "start_time": "2022-10-17T11:54:55.968902",
     "status": "completed"
    },
    "tags": []
   },
   "outputs": [
    {
     "name": "stderr",
     "output_type": "stream",
     "text": [
      "2022-10-17 11:54:56.045805: I tensorflow/core/common_runtime/process_util.cc:146] Creating new thread pool with default inter op setting: 2. Tune using inter_op_parallelism_threads for best performance.\n"
     ]
    }
   ],
   "source": [
    "model = Sequential()\n",
    "\n",
    "\n",
    "model.add(Dense(units=29,activation='relu'))\n",
    "model.add(Dropout(0.3))\n",
    "\n",
    "model.add(Dense(units=14,activation='relu'))\n",
    "model.add(Dropout(0.1))\n",
    "\n",
    "model.add(Dense(units=7,activation='relu'))\n",
    "\n",
    "\n",
    "model.add(Dense(units=2,activation='relu'))\n",
    "\n",
    "model.add(Dense(units=1,activation='sigmoid'))\n",
    "\n",
    "\n",
    "model.compile(loss='binary_crossentropy', optimizer='adam')"
   ]
  },
  {
   "cell_type": "code",
   "execution_count": 39,
   "id": "3e615b52",
   "metadata": {
    "execution": {
     "iopub.execute_input": "2022-10-17T11:54:56.163616Z",
     "iopub.status.busy": "2022-10-17T11:54:56.163178Z",
     "iopub.status.idle": "2022-10-17T11:54:56.168905Z",
     "shell.execute_reply": "2022-10-17T11:54:56.167953Z"
    },
    "papermill": {
     "duration": 0.037744,
     "end_time": "2022-10-17T11:54:56.171245",
     "exception": false,
     "start_time": "2022-10-17T11:54:56.133501",
     "status": "completed"
    },
    "tags": []
   },
   "outputs": [],
   "source": [
    "from tensorflow.keras.callbacks import EarlyStopping\n",
    "early_stop = EarlyStopping(monitor='val_loss', mode='min', verbose=2, patience=35)"
   ]
  },
  {
   "cell_type": "code",
   "execution_count": 40,
   "id": "27c1b43f",
   "metadata": {
    "execution": {
     "iopub.execute_input": "2022-10-17T11:54:56.227847Z",
     "iopub.status.busy": "2022-10-17T11:54:56.226785Z",
     "iopub.status.idle": "2022-10-17T11:58:58.485944Z",
     "shell.execute_reply": "2022-10-17T11:58:58.484212Z"
    },
    "papermill": {
     "duration": 242.290178,
     "end_time": "2022-10-17T11:58:58.488567",
     "exception": false,
     "start_time": "2022-10-17T11:54:56.198389",
     "status": "completed"
    },
    "tags": []
   },
   "outputs": [
    {
     "name": "stderr",
     "output_type": "stream",
     "text": [
      "2022-10-17 11:54:56.327001: I tensorflow/compiler/mlir/mlir_graph_optimization_pass.cc:185] None of the MLIR Optimization Passes are enabled (registered 2)\n"
     ]
    },
    {
     "name": "stdout",
     "output_type": "stream",
     "text": [
      "Epoch 1/3000\n",
      "1105/1105 - 4s - loss: 0.0578 - val_loss: 0.0237\n",
      "Epoch 2/3000\n",
      "1105/1105 - 3s - loss: 0.0233 - val_loss: 0.0147\n",
      "Epoch 3/3000\n",
      "1105/1105 - 3s - loss: 0.0184 - val_loss: 0.0148\n",
      "Epoch 4/3000\n",
      "1105/1105 - 2s - loss: 0.0173 - val_loss: 0.0176\n",
      "Epoch 5/3000\n",
      "1105/1105 - 3s - loss: 0.0163 - val_loss: 0.0155\n",
      "Epoch 6/3000\n",
      "1105/1105 - 3s - loss: 0.0159 - val_loss: 0.0134\n",
      "Epoch 7/3000\n",
      "1105/1105 - 3s - loss: 0.0152 - val_loss: 0.0127\n",
      "Epoch 8/3000\n",
      "1105/1105 - 2s - loss: 0.0147 - val_loss: 0.0119\n",
      "Epoch 9/3000\n",
      "1105/1105 - 2s - loss: 0.0149 - val_loss: 0.0122\n",
      "Epoch 10/3000\n",
      "1105/1105 - 2s - loss: 0.0151 - val_loss: 0.0108\n",
      "Epoch 11/3000\n",
      "1105/1105 - 3s - loss: 0.0141 - val_loss: 0.0116\n",
      "Epoch 12/3000\n",
      "1105/1105 - 2s - loss: 0.0137 - val_loss: 0.0119\n",
      "Epoch 13/3000\n",
      "1105/1105 - 2s - loss: 0.0143 - val_loss: 0.0117\n",
      "Epoch 14/3000\n",
      "1105/1105 - 2s - loss: 0.0147 - val_loss: 0.0112\n",
      "Epoch 15/3000\n",
      "1105/1105 - 3s - loss: 0.0131 - val_loss: 0.0114\n",
      "Epoch 16/3000\n",
      "1105/1105 - 3s - loss: 0.0138 - val_loss: 0.0111\n",
      "Epoch 17/3000\n",
      "1105/1105 - 2s - loss: 0.0144 - val_loss: 0.0109\n",
      "Epoch 18/3000\n",
      "1105/1105 - 3s - loss: 0.0138 - val_loss: 0.0121\n",
      "Epoch 19/3000\n",
      "1105/1105 - 3s - loss: 0.0128 - val_loss: 0.0111\n",
      "Epoch 20/3000\n",
      "1105/1105 - 3s - loss: 0.0130 - val_loss: 0.0115\n",
      "Epoch 21/3000\n",
      "1105/1105 - 3s - loss: 0.0137 - val_loss: 0.0115\n",
      "Epoch 22/3000\n",
      "1105/1105 - 2s - loss: 0.0139 - val_loss: 0.0117\n",
      "Epoch 23/3000\n",
      "1105/1105 - 2s - loss: 0.0129 - val_loss: 0.0112\n",
      "Epoch 24/3000\n",
      "1105/1105 - 2s - loss: 0.0133 - val_loss: 0.0152\n",
      "Epoch 25/3000\n",
      "1105/1105 - 2s - loss: 0.0129 - val_loss: 0.0108\n",
      "Epoch 26/3000\n",
      "1105/1105 - 2s - loss: 0.0133 - val_loss: 0.0107\n",
      "Epoch 27/3000\n",
      "1105/1105 - 3s - loss: 0.0137 - val_loss: 0.0111\n",
      "Epoch 28/3000\n",
      "1105/1105 - 2s - loss: 0.0130 - val_loss: 0.0116\n",
      "Epoch 29/3000\n",
      "1105/1105 - 3s - loss: 0.0127 - val_loss: 0.0118\n",
      "Epoch 30/3000\n",
      "1105/1105 - 3s - loss: 0.0131 - val_loss: 0.0112\n",
      "Epoch 31/3000\n",
      "1105/1105 - 3s - loss: 0.0138 - val_loss: 0.0106\n",
      "Epoch 32/3000\n",
      "1105/1105 - 2s - loss: 0.0130 - val_loss: 0.0105\n",
      "Epoch 33/3000\n",
      "1105/1105 - 3s - loss: 0.0129 - val_loss: 0.0116\n",
      "Epoch 34/3000\n",
      "1105/1105 - 3s - loss: 0.0123 - val_loss: 0.0106\n",
      "Epoch 35/3000\n",
      "1105/1105 - 3s - loss: 0.0126 - val_loss: 0.0123\n",
      "Epoch 36/3000\n",
      "1105/1105 - 2s - loss: 0.0128 - val_loss: 0.0106\n",
      "Epoch 37/3000\n",
      "1105/1105 - 2s - loss: 0.0125 - val_loss: 0.0111\n",
      "Epoch 38/3000\n",
      "1105/1105 - 2s - loss: 0.0131 - val_loss: 0.0115\n",
      "Epoch 39/3000\n",
      "1105/1105 - 2s - loss: 0.0129 - val_loss: 0.0110\n",
      "Epoch 40/3000\n",
      "1105/1105 - 3s - loss: 0.0126 - val_loss: 0.0109\n",
      "Epoch 41/3000\n",
      "1105/1105 - 2s - loss: 0.0125 - val_loss: 0.0108\n",
      "Epoch 42/3000\n",
      "1105/1105 - 2s - loss: 0.0132 - val_loss: 0.0108\n",
      "Epoch 43/3000\n",
      "1105/1105 - 2s - loss: 0.0128 - val_loss: 0.0120\n",
      "Epoch 44/3000\n",
      "1105/1105 - 2s - loss: 0.0122 - val_loss: 0.0122\n",
      "Epoch 45/3000\n",
      "1105/1105 - 2s - loss: 0.0125 - val_loss: 0.0108\n",
      "Epoch 46/3000\n",
      "1105/1105 - 2s - loss: 0.0123 - val_loss: 0.0112\n",
      "Epoch 47/3000\n",
      "1105/1105 - 2s - loss: 0.0127 - val_loss: 0.0111\n",
      "Epoch 48/3000\n",
      "1105/1105 - 2s - loss: 0.0125 - val_loss: 0.0109\n",
      "Epoch 49/3000\n",
      "1105/1105 - 2s - loss: 0.0123 - val_loss: 0.0105\n",
      "Epoch 50/3000\n",
      "1105/1105 - 3s - loss: 0.0122 - val_loss: 0.0121\n",
      "Epoch 51/3000\n",
      "1105/1105 - 3s - loss: 0.0126 - val_loss: 0.0107\n",
      "Epoch 52/3000\n",
      "1105/1105 - 3s - loss: 0.0128 - val_loss: 0.0109\n",
      "Epoch 53/3000\n",
      "1105/1105 - 3s - loss: 0.0123 - val_loss: 0.0103\n",
      "Epoch 54/3000\n",
      "1105/1105 - 3s - loss: 0.0123 - val_loss: 0.0113\n",
      "Epoch 55/3000\n",
      "1105/1105 - 3s - loss: 0.0126 - val_loss: 0.0115\n",
      "Epoch 56/3000\n",
      "1105/1105 - 3s - loss: 0.0124 - val_loss: 0.0118\n",
      "Epoch 57/3000\n",
      "1105/1105 - 3s - loss: 0.0129 - val_loss: 0.0113\n",
      "Epoch 58/3000\n",
      "1105/1105 - 2s - loss: 0.0118 - val_loss: 0.0113\n",
      "Epoch 59/3000\n",
      "1105/1105 - 2s - loss: 0.0122 - val_loss: 0.0111\n",
      "Epoch 60/3000\n",
      "1105/1105 - 3s - loss: 0.0124 - val_loss: 0.0103\n",
      "Epoch 61/3000\n",
      "1105/1105 - 3s - loss: 0.0122 - val_loss: 0.0103\n",
      "Epoch 62/3000\n",
      "1105/1105 - 3s - loss: 0.0123 - val_loss: 0.0100\n",
      "Epoch 63/3000\n",
      "1105/1105 - 3s - loss: 0.0120 - val_loss: 0.0110\n",
      "Epoch 64/3000\n",
      "1105/1105 - 3s - loss: 0.0117 - val_loss: 0.0122\n",
      "Epoch 65/3000\n",
      "1105/1105 - 3s - loss: 0.0127 - val_loss: 0.0105\n",
      "Epoch 66/3000\n",
      "1105/1105 - 3s - loss: 0.0123 - val_loss: 0.0107\n",
      "Epoch 67/3000\n",
      "1105/1105 - 3s - loss: 0.0123 - val_loss: 0.0115\n",
      "Epoch 68/3000\n",
      "1105/1105 - 3s - loss: 0.0120 - val_loss: 0.0106\n",
      "Epoch 69/3000\n",
      "1105/1105 - 3s - loss: 0.0115 - val_loss: 0.0112\n",
      "Epoch 70/3000\n",
      "1105/1105 - 2s - loss: 0.0122 - val_loss: 0.0121\n",
      "Epoch 71/3000\n",
      "1105/1105 - 2s - loss: 0.0126 - val_loss: 0.0110\n",
      "Epoch 72/3000\n",
      "1105/1105 - 2s - loss: 0.0127 - val_loss: 0.0113\n",
      "Epoch 73/3000\n",
      "1105/1105 - 2s - loss: 0.0120 - val_loss: 0.0109\n",
      "Epoch 74/3000\n",
      "1105/1105 - 2s - loss: 0.0121 - val_loss: 0.0112\n",
      "Epoch 75/3000\n",
      "1105/1105 - 2s - loss: 0.0125 - val_loss: 0.0103\n",
      "Epoch 76/3000\n",
      "1105/1105 - 2s - loss: 0.0120 - val_loss: 0.0108\n",
      "Epoch 77/3000\n",
      "1105/1105 - 3s - loss: 0.0121 - val_loss: 0.0102\n",
      "Epoch 78/3000\n",
      "1105/1105 - 2s - loss: 0.0123 - val_loss: 0.0103\n",
      "Epoch 79/3000\n",
      "1105/1105 - 2s - loss: 0.0123 - val_loss: 0.0106\n",
      "Epoch 80/3000\n",
      "1105/1105 - 2s - loss: 0.0118 - val_loss: 0.0105\n",
      "Epoch 81/3000\n",
      "1105/1105 - 2s - loss: 0.0119 - val_loss: 0.0108\n",
      "Epoch 82/3000\n",
      "1105/1105 - 2s - loss: 0.0117 - val_loss: 0.0114\n",
      "Epoch 83/3000\n",
      "1105/1105 - 2s - loss: 0.0126 - val_loss: 0.0112\n",
      "Epoch 84/3000\n",
      "1105/1105 - 2s - loss: 0.0119 - val_loss: 0.0105\n",
      "Epoch 85/3000\n",
      "1105/1105 - 2s - loss: 0.0122 - val_loss: 0.0104\n",
      "Epoch 86/3000\n",
      "1105/1105 - 2s - loss: 0.0119 - val_loss: 0.0108\n",
      "Epoch 87/3000\n",
      "1105/1105 - 2s - loss: 0.0122 - val_loss: 0.0109\n",
      "Epoch 88/3000\n",
      "1105/1105 - 2s - loss: 0.0114 - val_loss: 0.0105\n",
      "Epoch 89/3000\n",
      "1105/1105 - 2s - loss: 0.0127 - val_loss: 0.0111\n",
      "Epoch 90/3000\n",
      "1105/1105 - 2s - loss: 0.0118 - val_loss: 0.0106\n",
      "Epoch 91/3000\n",
      "1105/1105 - 3s - loss: 0.0120 - val_loss: 0.0110\n",
      "Epoch 92/3000\n",
      "1105/1105 - 2s - loss: 0.0123 - val_loss: 0.0107\n",
      "Epoch 93/3000\n",
      "1105/1105 - 2s - loss: 0.0117 - val_loss: 0.0103\n",
      "Epoch 94/3000\n",
      "1105/1105 - 2s - loss: 0.0119 - val_loss: 0.0107\n",
      "Epoch 95/3000\n",
      "1105/1105 - 2s - loss: 0.0119 - val_loss: 0.0111\n",
      "Epoch 96/3000\n",
      "1105/1105 - 2s - loss: 0.0121 - val_loss: 0.0109\n",
      "Epoch 97/3000\n",
      "1105/1105 - 2s - loss: 0.0119 - val_loss: 0.0115\n",
      "Epoch 00097: early stopping\n"
     ]
    },
    {
     "data": {
      "text/plain": [
       "<keras.callbacks.History at 0x7f1e31f1cb90>"
      ]
     },
     "execution_count": 40,
     "metadata": {},
     "output_type": "execute_result"
    }
   ],
   "source": [
    "model.fit(x=X_train, \n",
    "          y=y_train, \n",
    "          epochs=3000,\n",
    "          validation_data=(X_test, y_test), verbose=2,\n",
    "          callbacks=[early_stop]\n",
    "          )"
   ]
  },
  {
   "cell_type": "code",
   "execution_count": 41,
   "id": "8ff1ac51",
   "metadata": {
    "execution": {
     "iopub.execute_input": "2022-10-17T11:58:58.570490Z",
     "iopub.status.busy": "2022-10-17T11:58:58.569765Z",
     "iopub.status.idle": "2022-10-17T11:59:19.447417Z",
     "shell.execute_reply": "2022-10-17T11:59:19.446197Z"
    },
    "papermill": {
     "duration": 20.921288,
     "end_time": "2022-10-17T11:59:19.450049",
     "exception": false,
     "start_time": "2022-10-17T11:58:58.528761",
     "status": "completed"
    },
    "tags": []
   },
   "outputs": [
    {
     "data": {
      "text/plain": [
       "<AxesSubplot:>"
      ]
     },
     "execution_count": 41,
     "metadata": {},
     "output_type": "execute_result"
    },
    {
     "data": {
      "image/png": "[encoded data removed]",
      "text/plain": [
       "<Figure size 432x288 with 1 Axes>"
      ]
     },
     "metadata": {
      "needs_background": "light"
     },
     "output_type": "display_data"
    }
   ],
   "source": [
    "model_loss = pd.DataFrame(model.history.history)\n",
    "model_loss.plot()"
   ]
  },
  {
   "cell_type": "code",
   "execution_count": 42,
   "id": "ca1ca431",
   "metadata": {
    "execution": {
     "iopub.execute_input": "2022-10-17T11:59:19.531147Z",
     "iopub.status.busy": "2022-10-17T11:59:19.530716Z",
     "iopub.status.idle": "2022-10-17T11:59:20.262212Z",
     "shell.execute_reply": "2022-10-17T11:59:20.260913Z"
    },
    "papermill": {
     "duration": 0.775377,
     "end_time": "2022-10-17T11:59:20.265215",
     "exception": false,
     "start_time": "2022-10-17T11:59:19.489838",
     "status": "completed"
    },
    "tags": []
   },
   "outputs": [],
   "source": [
    "predictions = (model.predict(X_test) > 0.5)*1"
   ]
  },
  {
   "cell_type": "code",
   "execution_count": 43,
   "id": "c4b96c97",
   "metadata": {
    "execution": {
     "iopub.execute_input": "2022-10-17T11:59:20.346318Z",
     "iopub.status.busy": "2022-10-17T11:59:20.345902Z",
     "iopub.status.idle": "2022-10-17T11:59:20.351330Z",
     "shell.execute_reply": "2022-10-17T11:59:20.350108Z"
    },
    "papermill": {
     "duration": 0.048849,
     "end_time": "2022-10-17T11:59:20.353690",
     "exception": false,
     "start_time": "2022-10-17T11:59:20.304841",
     "status": "completed"
    },
    "tags": []
   },
   "outputs": [],
   "source": [
    "from sklearn.metrics import classification_report,confusion_matrix"
   ]
  },
  {
   "cell_type": "code",
   "execution_count": 44,
   "id": "7f9bd54b",
   "metadata": {
    "execution": {
     "iopub.execute_input": "2022-10-17T11:59:20.437014Z",
     "iopub.status.busy": "2022-10-17T11:59:20.436595Z",
     "iopub.status.idle": "2022-10-17T11:59:20.462018Z",
     "shell.execute_reply": "2022-10-17T11:59:20.460152Z"
    },
    "papermill": {
     "duration": 0.071971,
     "end_time": "2022-10-17T11:59:20.465648",
     "exception": false,
     "start_time": "2022-10-17T11:59:20.393677",
     "status": "completed"
    },
    "tags": []
   },
   "outputs": [
    {
     "name": "stdout",
     "output_type": "stream",
     "text": [
      "              precision    recall  f1-score   support\n",
      "\n",
      "           0       1.00      1.00      1.00     11668\n",
      "           1       0.81      0.89      0.85       111\n",
      "\n",
      "    accuracy                           1.00     11779\n",
      "   macro avg       0.91      0.94      0.92     11779\n",
      "weighted avg       1.00      1.00      1.00     11779\n",
      "\n"
     ]
    }
   ],
   "source": [
    "# https://en.wikipedia.org/wiki/Precision_and_recall\n",
    "print(classification_report(y_test,predictions))"
   ]
  },
  {
   "cell_type": "code",
   "execution_count": 45,
   "id": "7ba28daf",
   "metadata": {
    "execution": {
     "iopub.execute_input": "2022-10-17T11:59:20.548001Z",
     "iopub.status.busy": "2022-10-17T11:59:20.546752Z",
     "iopub.status.idle": "2022-10-17T11:59:20.556862Z",
     "shell.execute_reply": "2022-10-17T11:59:20.554974Z"
    },
    "papermill": {
     "duration": 0.054613,
     "end_time": "2022-10-17T11:59:20.560072",
     "exception": false,
     "start_time": "2022-10-17T11:59:20.505459",
     "status": "completed"
    },
    "tags": []
   },
   "outputs": [
    {
     "name": "stdout",
     "output_type": "stream",
     "text": [
      "[[11645    23]\n",
      " [   12    99]]\n"
     ]
    }
   ],
   "source": [
    "print(confusion_matrix(y_test,predictions))"
   ]
  },
  {
   "cell_type": "code",
   "execution_count": 46,
   "id": "48e451ed",
   "metadata": {
    "execution": {
     "iopub.execute_input": "2022-10-17T11:59:20.643301Z",
     "iopub.status.busy": "2022-10-17T11:59:20.642576Z",
     "iopub.status.idle": "2022-10-17T11:59:20.657177Z",
     "shell.execute_reply": "2022-10-17T11:59:20.655825Z"
    },
    "papermill": {
     "duration": 0.05922,
     "end_time": "2022-10-17T11:59:20.659752",
     "exception": false,
     "start_time": "2022-10-17T11:59:20.600532",
     "status": "completed"
    },
    "tags": []
   },
   "outputs": [
    {
     "data": {
      "text/html": [
       "<div>\n",
       "<style scoped>\n",
       "    .dataframe tbody tr th:only-of-type {\n",
       "        vertical-align: middle;\n",
       "    }\n",
       "\n",
       "    .dataframe tbody tr th {\n",
       "        vertical-align: top;\n",
       "    }\n",
       "\n",
       "    .dataframe thead th {\n",
       "        text-align: right;\n",
       "    }\n",
       "</style>\n",
       "<table border=\"1\" class=\"dataframe\">\n",
       "  <thead>\n",
       "    <tr style=\"text-align: right;\">\n",
       "      <th></th>\n",
       "      <th>Predicted 0</th>\n",
       "      <th>Predicted 1</th>\n",
       "    </tr>\n",
       "  </thead>\n",
       "  <tbody>\n",
       "    <tr>\n",
       "      <th>Actual 0</th>\n",
       "      <td>11645</td>\n",
       "      <td>23</td>\n",
       "    </tr>\n",
       "    <tr>\n",
       "      <th>Actual 1</th>\n",
       "      <td>12</td>\n",
       "      <td>99</td>\n",
       "    </tr>\n",
       "  </tbody>\n",
       "</table>\n",
       "</div>"
      ],
      "text/plain": [
       "          Predicted 0  Predicted 1\n",
       "Actual 0        11645           23\n",
       "Actual 1           12           99"
      ]
     },
     "execution_count": 46,
     "metadata": {},
     "output_type": "execute_result"
    }
   ],
   "source": [
    "cm_df = pd.DataFrame(confusion_matrix(y_test,predictions))\n",
    "cm_df.columns = ['Predicted 0','Predicted 1']\n",
    "cm_df = cm_df.rename(index={0: 'Actual 0',1:'Actual 1'})\n",
    "cm_df"
   ]
  },
  {
   "cell_type": "code",
   "execution_count": 47,
   "id": "b7a0cc16",
   "metadata": {
    "execution": {
     "iopub.execute_input": "2022-10-17T11:59:20.741947Z",
     "iopub.status.busy": "2022-10-17T11:59:20.741500Z",
     "iopub.status.idle": "2022-10-17T11:59:20.746715Z",
     "shell.execute_reply": "2022-10-17T11:59:20.745501Z"
    },
    "papermill": {
     "duration": 0.049616,
     "end_time": "2022-10-17T11:59:20.749259",
     "exception": false,
     "start_time": "2022-10-17T11:59:20.699643",
     "status": "completed"
    },
    "tags": []
   },
   "outputs": [],
   "source": [
    "from sklearn.metrics import f1_score"
   ]
  },
  {
   "cell_type": "code",
   "execution_count": 48,
   "id": "436c917e",
   "metadata": {
    "execution": {
     "iopub.execute_input": "2022-10-17T11:59:20.832895Z",
     "iopub.status.busy": "2022-10-17T11:59:20.832449Z",
     "iopub.status.idle": "2022-10-17T11:59:20.844101Z",
     "shell.execute_reply": "2022-10-17T11:59:20.842583Z"
    },
    "papermill": {
     "duration": 0.057092,
     "end_time": "2022-10-17T11:59:20.847290",
     "exception": false,
     "start_time": "2022-10-17T11:59:20.790198",
     "status": "completed"
    },
    "tags": []
   },
   "outputs": [
    {
     "name": "stdout",
     "output_type": "stream",
     "text": [
      "0.849785407725322\n"
     ]
    }
   ],
   "source": [
    "f1 = f1_score(y_test, predictions)\n",
    "print (f1)"
   ]
  },
  {
   "cell_type": "code",
   "execution_count": 49,
   "id": "dc44e1ee",
   "metadata": {
    "execution": {
     "iopub.execute_input": "2022-10-17T11:59:20.930054Z",
     "iopub.status.busy": "2022-10-17T11:59:20.929655Z",
     "iopub.status.idle": "2022-10-17T11:59:20.938343Z",
     "shell.execute_reply": "2022-10-17T11:59:20.937136Z"
    },
    "papermill": {
     "duration": 0.052935,
     "end_time": "2022-10-17T11:59:20.940909",
     "exception": false,
     "start_time": "2022-10-17T11:59:20.887974",
     "status": "completed"
    },
    "tags": []
   },
   "outputs": [],
   "source": [
    "CM = confusion_matrix(y_test,predictions)\n",
    "\n",
    "TN = CM[0][0]\n",
    "FN = CM[1][0]\n",
    "TP = CM[1][1]\n",
    "FP = CM[0][1]"
   ]
  },
  {
   "cell_type": "code",
   "execution_count": 50,
   "id": "30f5991f",
   "metadata": {
    "execution": {
     "iopub.execute_input": "2022-10-17T11:59:21.023902Z",
     "iopub.status.busy": "2022-10-17T11:59:21.023449Z",
     "iopub.status.idle": "2022-10-17T11:59:21.030783Z",
     "shell.execute_reply": "2022-10-17T11:59:21.029612Z"
    },
    "papermill": {
     "duration": 0.051232,
     "end_time": "2022-10-17T11:59:21.033041",
     "exception": false,
     "start_time": "2022-10-17T11:59:20.981809",
     "status": "completed"
    },
    "tags": []
   },
   "outputs": [],
   "source": [
    "\n",
    "TPR = TP/(TP+FN)\n",
    "\n",
    "TNR = TN/(TN+FP) \n",
    "\n",
    "PPV = TP/(TP+FP)\n",
    "\n",
    "NPV = TN/(TN+FN)\n",
    "\n",
    "FPR = FP/(FP+TN)\n",
    "\n",
    "FNR = FN/(TP+FN)\n",
    "\n",
    "FDR = FP/(TP+FP)\n",
    "\n",
    "y\n",
    "ACC = (TP+TN)/(TP+FP+FN+TN)"
   ]
  },
  {
   "cell_type": "code",
   "execution_count": 51,
   "id": "b2ab3d1e",
   "metadata": {
    "execution": {
     "iopub.execute_input": "2022-10-17T11:59:21.115656Z",
     "iopub.status.busy": "2022-10-17T11:59:21.114802Z",
     "iopub.status.idle": "2022-10-17T11:59:21.121739Z",
     "shell.execute_reply": "2022-10-17T11:59:21.120848Z"
    },
    "papermill": {
     "duration": 0.050608,
     "end_time": "2022-10-17T11:59:21.124026",
     "exception": false,
     "start_time": "2022-10-17T11:59:21.073418",
     "status": "completed"
    },
    "tags": []
   },
   "outputs": [
    {
     "data": {
      "text/plain": [
       "0.9970286102385602"
      ]
     },
     "execution_count": 51,
     "metadata": {},
     "output_type": "execute_result"
    }
   ],
   "source": [
    "ACC"
   ]
  },
  {
   "cell_type": "code",
   "execution_count": 52,
   "id": "9d1ca04b",
   "metadata": {
    "execution": {
     "iopub.execute_input": "2022-10-17T11:59:21.287003Z",
     "iopub.status.busy": "2022-10-17T11:59:21.286560Z",
     "iopub.status.idle": "2022-10-17T11:59:21.413040Z",
     "shell.execute_reply": "2022-10-17T11:59:21.412089Z"
    },
    "papermill": {
     "duration": 0.170538,
     "end_time": "2022-10-17T11:59:21.415603",
     "exception": false,
     "start_time": "2022-10-17T11:59:21.245065",
     "status": "completed"
    },
    "tags": []
   },
   "outputs": [],
   "source": [
    "\n",
    "\n",
    "X = df_out.drop('Class',axis=1).values\n",
    "y = df_out['Class'].values\n",
    "\n",
    "from sklearn.model_selection import train_test_split\n",
    "X_train, X_test, y_train, y_test = train_test_split(X,y,test_size=0.25,random_state=42)"
   ]
  },
  {
   "cell_type": "code",
   "execution_count": 53,
   "id": "ecbcca5c",
   "metadata": {
    "execution": {
     "iopub.execute_input": "2022-10-17T11:59:21.497631Z",
     "iopub.status.busy": "2022-10-17T11:59:21.497168Z",
     "iopub.status.idle": "2022-10-17T11:59:21.549165Z",
     "shell.execute_reply": "2022-10-17T11:59:21.548108Z"
    },
    "papermill": {
     "duration": 0.096318,
     "end_time": "2022-10-17T11:59:21.551888",
     "exception": false,
     "start_time": "2022-10-17T11:59:21.455570",
     "status": "completed"
    },
    "tags": []
   },
   "outputs": [],
   "source": [
    "X_train = scaler.transform(X_train)\n",
    "X_test = scaler.transform(X_test)"
   ]
  },
  {
   "cell_type": "code",
   "execution_count": 54,
   "id": "789898ea",
   "metadata": {
    "execution": {
     "iopub.execute_input": "2022-10-17T11:59:21.634894Z",
     "iopub.status.busy": "2022-10-17T11:59:21.634013Z",
     "iopub.status.idle": "2022-10-17T11:59:21.641368Z",
     "shell.execute_reply": "2022-10-17T11:59:21.640457Z"
    },
    "papermill": {
     "duration": 0.051148,
     "end_time": "2022-10-17T11:59:21.643716",
     "exception": false,
     "start_time": "2022-10-17T11:59:21.592568",
     "status": "completed"
    },
    "tags": []
   },
   "outputs": [
    {
     "data": {
      "text/plain": [
       "(178268, 29)"
      ]
     },
     "execution_count": 54,
     "metadata": {},
     "output_type": "execute_result"
    }
   ],
   "source": [
    "X_train.shape"
   ]
  },
  {
   "cell_type": "code",
   "execution_count": 55,
   "id": "e7243b52",
   "metadata": {
    "execution": {
     "iopub.execute_input": "2022-10-17T11:59:21.727754Z",
     "iopub.status.busy": "2022-10-17T11:59:21.726943Z",
     "iopub.status.idle": "2022-10-17T11:59:21.748301Z",
     "shell.execute_reply": "2022-10-17T11:59:21.746766Z"
    },
    "papermill": {
     "duration": 0.066593,
     "end_time": "2022-10-17T11:59:21.751204",
     "exception": false,
     "start_time": "2022-10-17T11:59:21.684611",
     "status": "completed"
    },
    "tags": []
   },
   "outputs": [],
   "source": [
    "model = Sequential()\n",
    "\n",
    "\n",
    "\n",
    "model.add(Dense(units=29,activation='relu'))\n",
    "model.add(Dropout(0.3))\n",
    "\n",
    "model.add(Dense(units=14,activation='relu'))\n",
    "model.add(Dropout(0.1))\n",
    "\n",
    "model.add(Dense(units=7,activation='relu'))\n",
    "\n",
    "\n",
    "model.add(Dense(units=2,activation='relu'))\n",
    "\n",
    "model.add(Dense(units=1,activation='sigmoid'))\n",
    "\n",
    "\n",
    "model.compile(loss='binary_crossentropy', optimizer='adam')"
   ]
  },
  {
   "cell_type": "code",
   "execution_count": 56,
   "id": "6494c922",
   "metadata": {
    "execution": {
     "iopub.execute_input": "2022-10-17T11:59:21.834148Z",
     "iopub.status.busy": "2022-10-17T11:59:21.833746Z",
     "iopub.status.idle": "2022-10-17T11:59:21.838758Z",
     "shell.execute_reply": "2022-10-17T11:59:21.837812Z"
    },
    "papermill": {
     "duration": 0.048984,
     "end_time": "2022-10-17T11:59:21.840993",
     "exception": false,
     "start_time": "2022-10-17T11:59:21.792009",
     "status": "completed"
    },
    "tags": []
   },
   "outputs": [],
   "source": [
    "from tensorflow.keras.callbacks import EarlyStopping\n",
    "early_stop = EarlyStopping(monitor='val_loss', mode='min', verbose=2, patience=35)"
   ]
  },
  {
   "cell_type": "code",
   "execution_count": 57,
   "id": "cfedb636",
   "metadata": {
    "execution": {
     "iopub.execute_input": "2022-10-17T11:59:21.924165Z",
     "iopub.status.busy": "2022-10-17T11:59:21.923375Z",
     "iopub.status.idle": "2022-10-17T12:20:36.187158Z",
     "shell.execute_reply": "2022-10-17T12:20:36.185770Z"
    },
    "papermill": {
     "duration": 1274.36173,
     "end_time": "2022-10-17T12:20:36.243399",
     "exception": false,
     "start_time": "2022-10-17T11:59:21.881669",
     "status": "completed"
    },
    "tags": []
   },
   "outputs": [
    {
     "name": "stdout",
     "output_type": "stream",
     "text": [
      "Epoch 1/3000\n",
      "5571/5571 - 12s - loss: 0.0162 - val_loss: 0.0041\n",
      "Epoch 2/3000\n",
      "5571/5571 - 12s - loss: 0.0021 - val_loss: 0.0031\n",
      "Epoch 3/3000\n",
      "5571/5571 - 12s - loss: 0.0020 - val_loss: 0.0031\n",
      "Epoch 4/3000\n",
      "5571/5571 - 12s - loss: 0.0019 - val_loss: 0.0027\n",
      "Epoch 5/3000\n",
      "5571/5571 - 13s - loss: 0.0018 - val_loss: 0.0027\n",
      "Epoch 6/3000\n",
      "5571/5571 - 13s - loss: 0.0018 - val_loss: 0.0026\n",
      "Epoch 7/3000\n",
      "5571/5571 - 14s - loss: 0.0017 - val_loss: 0.0027\n",
      "Epoch 8/3000\n",
      "5571/5571 - 14s - loss: 0.0016 - val_loss: 0.0031\n",
      "Epoch 9/3000\n",
      "5571/5571 - 13s - loss: 0.0016 - val_loss: 0.0025\n",
      "Epoch 10/3000\n",
      "5571/5571 - 14s - loss: 0.0017 - val_loss: 0.0026\n",
      "Epoch 11/3000\n",
      "5571/5571 - 13s - loss: 0.0016 - val_loss: 0.0031\n",
      "Epoch 12/3000\n",
      "5571/5571 - 14s - loss: 0.0016 - val_loss: 0.0025\n",
      "Epoch 13/3000\n",
      "5571/5571 - 14s - loss: 0.0016 - val_loss: 0.0025\n",
      "Epoch 14/3000\n",
      "5571/5571 - 14s - loss: 0.0016 - val_loss: 0.0027\n",
      "Epoch 15/3000\n",
      "5571/5571 - 14s - loss: 0.0016 - val_loss: 0.0024\n",
      "Epoch 16/3000\n",
      "5571/5571 - 15s - loss: 0.0016 - val_loss: 0.0024\n",
      "Epoch 17/3000\n",
      "5571/5571 - 14s - loss: 0.0015 - val_loss: 0.0025\n",
      "Epoch 18/3000\n",
      "5571/5571 - 14s - loss: 0.0016 - val_loss: 0.0024\n",
      "Epoch 19/3000\n",
      "5571/5571 - 14s - loss: 0.0015 - val_loss: 0.0027\n",
      "Epoch 20/3000\n",
      "5571/5571 - 13s - loss: 0.0016 - val_loss: 0.0024\n",
      "Epoch 21/3000\n",
      "5571/5571 - 14s - loss: 0.0016 - val_loss: 0.0024\n",
      "Epoch 22/3000\n",
      "5571/5571 - 14s - loss: 0.0016 - val_loss: 0.0024\n",
      "Epoch 23/3000\n",
      "5571/5571 - 13s - loss: 0.0015 - val_loss: 0.0033\n",
      "Epoch 24/3000\n",
      "5571/5571 - 12s - loss: 0.0017 - val_loss: 0.0024\n",
      "Epoch 25/3000\n",
      "5571/5571 - 12s - loss: 0.0016 - val_loss: 0.0024\n",
      "Epoch 26/3000\n",
      "5571/5571 - 13s - loss: 0.0016 - val_loss: 0.0026\n",
      "Epoch 27/3000\n",
      "5571/5571 - 12s - loss: 0.0016 - val_loss: 0.0025\n",
      "Epoch 28/3000\n",
      "5571/5571 - 13s - loss: 0.0016 - val_loss: 0.0025\n",
      "Epoch 29/3000\n",
      "5571/5571 - 13s - loss: 0.0016 - val_loss: 0.0024\n",
      "Epoch 30/3000\n",
      "5571/5571 - 13s - loss: 0.0015 - val_loss: 0.0025\n",
      "Epoch 31/3000\n",
      "5571/5571 - 14s - loss: 0.0016 - val_loss: 0.0024\n",
      "Epoch 32/3000\n",
      "5571/5571 - 14s - loss: 0.0016 - val_loss: 0.0024\n",
      "Epoch 33/3000\n",
      "5571/5571 - 14s - loss: 0.0015 - val_loss: 0.0025\n",
      "Epoch 34/3000\n",
      "5571/5571 - 13s - loss: 0.0015 - val_loss: 0.0024\n",
      "Epoch 35/3000\n",
      "5571/5571 - 14s - loss: 0.0016 - val_loss: 0.0024\n",
      "Epoch 36/3000\n",
      "5571/5571 - 14s - loss: 0.0015 - val_loss: 0.0023\n",
      "Epoch 37/3000\n",
      "5571/5571 - 15s - loss: 0.0015 - val_loss: 0.0024\n",
      "Epoch 38/3000\n",
      "5571/5571 - 14s - loss: 0.0015 - val_loss: 0.0027\n",
      "Epoch 39/3000\n",
      "5571/5571 - 15s - loss: 0.0016 - val_loss: 0.0026\n",
      "Epoch 40/3000\n",
      "5571/5571 - 15s - loss: 0.0016 - val_loss: 0.0024\n",
      "Epoch 41/3000\n",
      "5571/5571 - 14s - loss: 0.0015 - val_loss: 0.0026\n",
      "Epoch 42/3000\n",
      "5571/5571 - 14s - loss: 0.0015 - val_loss: 0.0025\n",
      "Epoch 43/3000\n",
      "5571/5571 - 14s - loss: 0.0015 - val_loss: 0.0024\n",
      "Epoch 44/3000\n",
      "5571/5571 - 14s - loss: 0.0016 - val_loss: 0.0025\n",
      "Epoch 45/3000\n",
      "5571/5571 - 14s - loss: 0.0015 - val_loss: 0.0026\n",
      "Epoch 46/3000\n",
      "5571/5571 - 13s - loss: 0.0015 - val_loss: 0.0028\n",
      "Epoch 47/3000\n",
      "5571/5571 - 12s - loss: 0.0015 - val_loss: 0.0025\n",
      "Epoch 48/3000\n",
      "5571/5571 - 14s - loss: 0.0015 - val_loss: 0.0025\n",
      "Epoch 49/3000\n",
      "5571/5571 - 14s - loss: 0.0015 - val_loss: 0.0024\n",
      "Epoch 50/3000\n",
      "5571/5571 - 13s - loss: 0.0015 - val_loss: 0.0025\n",
      "Epoch 51/3000\n",
      "5571/5571 - 14s - loss: 0.0015 - val_loss: 0.0023\n",
      "Epoch 52/3000\n",
      "5571/5571 - 14s - loss: 0.0015 - val_loss: 0.0024\n",
      "Epoch 53/3000\n",
      "5571/5571 - 15s - loss: 0.0015 - val_loss: 0.0024\n",
      "Epoch 54/3000\n",
      "5571/5571 - 14s - loss: 0.0015 - val_loss: 0.0024\n",
      "Epoch 55/3000\n",
      "5571/5571 - 14s - loss: 0.0016 - val_loss: 0.0024\n",
      "Epoch 56/3000\n",
      "5571/5571 - 15s - loss: 0.0015 - val_loss: 0.0025\n",
      "Epoch 57/3000\n",
      "5571/5571 - 15s - loss: 0.0015 - val_loss: 0.0023\n",
      "Epoch 58/3000\n",
      "5571/5571 - 15s - loss: 0.0015 - val_loss: 0.0023\n",
      "Epoch 59/3000\n",
      "5571/5571 - 14s - loss: 0.0015 - val_loss: 0.0024\n",
      "Epoch 60/3000\n",
      "5571/5571 - 14s - loss: 0.0016 - val_loss: 0.0023\n",
      "Epoch 61/3000\n",
      "5571/5571 - 14s - loss: 0.0015 - val_loss: 0.0025\n",
      "Epoch 62/3000\n",
      "5571/5571 - 12s - loss: 0.0015 - val_loss: 0.0024\n",
      "Epoch 63/3000\n",
      "5571/5571 - 12s - loss: 0.0015 - val_loss: 0.0024\n",
      "Epoch 64/3000\n",
      "5571/5571 - 13s - loss: 0.0015 - val_loss: 0.0023\n",
      "Epoch 65/3000\n",
      "5571/5571 - 13s - loss: 0.0015 - val_loss: 0.0024\n",
      "Epoch 66/3000\n",
      "5571/5571 - 13s - loss: 0.0015 - val_loss: 0.0024\n",
      "Epoch 67/3000\n",
      "5571/5571 - 14s - loss: 0.0015 - val_loss: 0.0024\n",
      "Epoch 68/3000\n",
      "5571/5571 - 14s - loss: 0.0015 - val_loss: 0.0024\n",
      "Epoch 69/3000\n",
      "5571/5571 - 13s - loss: 0.0015 - val_loss: 0.0024\n",
      "Epoch 70/3000\n",
      "5571/5571 - 13s - loss: 0.0015 - val_loss: 0.0025\n",
      "Epoch 71/3000\n",
      "5571/5571 - 13s - loss: 0.0015 - val_loss: 0.0023\n",
      "Epoch 72/3000\n",
      "5571/5571 - 14s - loss: 0.0015 - val_loss: 0.0024\n",
      "Epoch 73/3000\n",
      "5571/5571 - 13s - loss: 0.0015 - val_loss: 0.0026\n",
      "Epoch 74/3000\n",
      "5571/5571 - 13s - loss: 0.0015 - val_loss: 0.0025\n",
      "Epoch 75/3000\n",
      "5571/5571 - 14s - loss: 0.0015 - val_loss: 0.0023\n",
      "Epoch 76/3000\n",
      "5571/5571 - 15s - loss: 0.0015 - val_loss: 0.0024\n",
      "Epoch 77/3000\n",
      "5571/5571 - 15s - loss: 0.0015 - val_loss: 0.0025\n",
      "Epoch 78/3000\n",
      "5571/5571 - 15s - loss: 0.0015 - val_loss: 0.0024\n",
      "Epoch 79/3000\n",
      "5571/5571 - 14s - loss: 0.0015 - val_loss: 0.0026\n",
      "Epoch 80/3000\n",
      "5571/5571 - 14s - loss: 0.0015 - val_loss: 0.0024\n",
      "Epoch 81/3000\n",
      "5571/5571 - 13s - loss: 0.0015 - val_loss: 0.0023\n",
      "Epoch 82/3000\n",
      "5571/5571 - 13s - loss: 0.0015 - val_loss: 0.0025\n",
      "Epoch 83/3000\n",
      "5571/5571 - 15s - loss: 0.0015 - val_loss: 0.0023\n",
      "Epoch 84/3000\n",
      "5571/5571 - 15s - loss: 0.0015 - val_loss: 0.0027\n",
      "Epoch 85/3000\n",
      "5571/5571 - 14s - loss: 0.0015 - val_loss: 0.0025\n",
      "Epoch 86/3000\n",
      "5571/5571 - 14s - loss: 0.0014 - val_loss: 0.0024\n",
      "Epoch 87/3000\n",
      "5571/5571 - 14s - loss: 0.0015 - val_loss: 0.0024\n",
      "Epoch 88/3000\n",
      "5571/5571 - 14s - loss: 0.0015 - val_loss: 0.0026\n",
      "Epoch 89/3000\n",
      "5571/5571 - 13s - loss: 0.0015 - val_loss: 0.0023\n",
      "Epoch 90/3000\n",
      "5571/5571 - 14s - loss: 0.0015 - val_loss: 0.0024\n",
      "Epoch 91/3000\n",
      "5571/5571 - 14s - loss: 0.0015 - val_loss: 0.0024\n",
      "Epoch 92/3000\n",
      "5571/5571 - 15s - loss: 0.0014 - val_loss: 0.0024\n",
      "Epoch 93/3000\n",
      "5571/5571 - 14s - loss: 0.0014 - val_loss: 0.0029\n",
      "Epoch 00093: early stopping\n"
     ]
    },
    {
     "data": {
      "text/plain": [
       "<keras.callbacks.History at 0x7f1e04769110>"
      ]
     },
     "execution_count": 57,
     "metadata": {},
     "output_type": "execute_result"
    }
   ],
   "source": [
    "model.fit(x=X_train, \n",
    "          y=y_train, \n",
    "          epochs=3000,\n",
    "          validation_data=(X_test, y_test), verbose=2,\n",
    "          callbacks=[early_stop]\n",
    "          )"
   ]
  },
  {
   "cell_type": "code",
   "execution_count": 58,
   "id": "a12b3d7b",
   "metadata": {
    "execution": {
     "iopub.execute_input": "2022-10-17T12:20:36.352121Z",
     "iopub.status.busy": "2022-10-17T12:20:36.351705Z",
     "iopub.status.idle": "2022-10-17T12:20:44.875804Z",
     "shell.execute_reply": "2022-10-17T12:20:44.873806Z"
    },
    "papermill": {
     "duration": 8.581701,
     "end_time": "2022-10-17T12:20:44.878530",
     "exception": false,
     "start_time": "2022-10-17T12:20:36.296829",
     "status": "completed"
    },
    "tags": []
   },
   "outputs": [
    {
     "data": {
      "text/plain": [
       "<AxesSubplot:>"
      ]
     },
     "execution_count": 58,
     "metadata": {},
     "output_type": "execute_result"
    },
    {
     "data": {
      "image/png": "[encoded data removed]",
      "text/plain": [
       "<Figure size 432x288 with 1 Axes>"
      ]
     },
     "metadata": {
      "needs_background": "light"
     },
     "output_type": "display_data"
    }
   ],
   "source": [
    "model_loss = pd.DataFrame(model.history.history)\n",
    "model_loss.plot()"
   ]
  },
  {
   "cell_type": "code",
   "execution_count": 59,
   "id": "5ad7817d",
   "metadata": {
    "execution": {
     "iopub.execute_input": "2022-10-17T12:20:44.991088Z",
     "iopub.status.busy": "2022-10-17T12:20:44.990668Z",
     "iopub.status.idle": "2022-10-17T12:20:47.396300Z",
     "shell.execute_reply": "2022-10-17T12:20:47.395066Z"
    },
    "papermill": {
     "duration": 2.46358,
     "end_time": "2022-10-17T12:20:47.399539",
     "exception": false,
     "start_time": "2022-10-17T12:20:44.935959",
     "status": "completed"
    },
    "tags": []
   },
   "outputs": [],
   "source": [
    "predictions_2nd = (model.predict(X_test) > 0.5)*1"
   ]
  },
  {
   "cell_type": "code",
   "execution_count": 60,
   "id": "9b598487",
   "metadata": {
    "execution": {
     "iopub.execute_input": "2022-10-17T12:20:47.519865Z",
     "iopub.status.busy": "2022-10-17T12:20:47.519449Z",
     "iopub.status.idle": "2022-10-17T12:20:47.627676Z",
     "shell.execute_reply": "2022-10-17T12:20:47.626156Z"
    },
    "papermill": {
     "duration": 0.169603,
     "end_time": "2022-10-17T12:20:47.630327",
     "exception": false,
     "start_time": "2022-10-17T12:20:47.460724",
     "status": "completed"
    },
    "tags": []
   },
   "outputs": [
    {
     "name": "stdout",
     "output_type": "stream",
     "text": [
      "              precision    recall  f1-score   support\n",
      "\n",
      "           0       1.00      1.00      1.00     59407\n",
      "           1       0.00      0.00      0.00        16\n",
      "\n",
      "    accuracy                           1.00     59423\n",
      "   macro avg       0.50      0.50      0.50     59423\n",
      "weighted avg       1.00      1.00      1.00     59423\n",
      "\n"
     ]
    },
    {
     "name": "stderr",
     "output_type": "stream",
     "text": [
      "/opt/conda/lib/python3.7/site-packages/sklearn/metrics/_classification.py:1318: UndefinedMetricWarning: Precision and F-score are ill-defined and being set to 0.0 in labels with no predicted samples. Use `zero_division` parameter to control this behavior.\n",
      "  _warn_prf(average, modifier, msg_start, len(result))\n",
      "/opt/conda/lib/python3.7/site-packages/sklearn/metrics/_classification.py:1318: UndefinedMetricWarning: Precision and F-score are ill-defined and being set to 0.0 in labels with no predicted samples. Use `zero_division` parameter to control this behavior.\n",
      "  _warn_prf(average, modifier, msg_start, len(result))\n",
      "/opt/conda/lib/python3.7/site-packages/sklearn/metrics/_classification.py:1318: UndefinedMetricWarning: Precision and F-score are ill-defined and being set to 0.0 in labels with no predicted samples. Use `zero_division` parameter to control this behavior.\n",
      "  _warn_prf(average, modifier, msg_start, len(result))\n"
     ]
    }
   ],
   "source": [
    "\n",
    "print(classification_report(y_test,predictions_2nd))"
   ]
  },
  {
   "cell_type": "code",
   "execution_count": 61,
   "id": "9316a342",
   "metadata": {
    "execution": {
     "iopub.execute_input": "2022-10-17T12:20:47.741915Z",
     "iopub.status.busy": "2022-10-17T12:20:47.741514Z",
     "iopub.status.idle": "2022-10-17T12:20:47.759471Z",
     "shell.execute_reply": "2022-10-17T12:20:47.757368Z"
    },
    "papermill": {
     "duration": 0.077249,
     "end_time": "2022-10-17T12:20:47.763274",
     "exception": false,
     "start_time": "2022-10-17T12:20:47.686025",
     "status": "completed"
    },
    "tags": []
   },
   "outputs": [
    {
     "name": "stdout",
     "output_type": "stream",
     "text": [
      "[[59407     0]\n",
      " [   16     0]]\n"
     ]
    }
   ],
   "source": [
    "print(confusion_matrix(y_test,predictions_2nd))"
   ]
  },
  {
   "cell_type": "code",
   "execution_count": 62,
   "id": "a32e4c62",
   "metadata": {
    "execution": {
     "iopub.execute_input": "2022-10-17T12:20:47.884894Z",
     "iopub.status.busy": "2022-10-17T12:20:47.884347Z",
     "iopub.status.idle": "2022-10-17T12:20:47.910200Z",
     "shell.execute_reply": "2022-10-17T12:20:47.908471Z"
    },
    "papermill": {
     "duration": 0.09004,
     "end_time": "2022-10-17T12:20:47.913007",
     "exception": false,
     "start_time": "2022-10-17T12:20:47.822967",
     "status": "completed"
    },
    "tags": []
   },
   "outputs": [
    {
     "data": {
      "text/html": [
       "<div>\n",
       "<style scoped>\n",
       "    .dataframe tbody tr th:only-of-type {\n",
       "        vertical-align: middle;\n",
       "    }\n",
       "\n",
       "    .dataframe tbody tr th {\n",
       "        vertical-align: top;\n",
       "    }\n",
       "\n",
       "    .dataframe thead th {\n",
       "        text-align: right;\n",
       "    }\n",
       "</style>\n",
       "<table border=\"1\" class=\"dataframe\">\n",
       "  <thead>\n",
       "    <tr style=\"text-align: right;\">\n",
       "      <th></th>\n",
       "      <th>Predicted 0</th>\n",
       "      <th>Predicted 1</th>\n",
       "    </tr>\n",
       "  </thead>\n",
       "  <tbody>\n",
       "    <tr>\n",
       "      <th>Actual 0</th>\n",
       "      <td>59407</td>\n",
       "      <td>0</td>\n",
       "    </tr>\n",
       "    <tr>\n",
       "      <th>Actual 1</th>\n",
       "      <td>16</td>\n",
       "      <td>0</td>\n",
       "    </tr>\n",
       "  </tbody>\n",
       "</table>\n",
       "</div>"
      ],
      "text/plain": [
       "          Predicted 0  Predicted 1\n",
       "Actual 0        59407            0\n",
       "Actual 1           16            0"
      ]
     },
     "execution_count": 62,
     "metadata": {},
     "output_type": "execute_result"
    }
   ],
   "source": [
    "cm_df = pd.DataFrame(confusion_matrix(y_test,predictions_2nd))\n",
    "cm_df.columns = ['Predicted 0','Predicted 1']\n",
    "cm_df = cm_df.rename(index={0: 'Actual 0',1:'Actual 1'})\n",
    "cm_df"
   ]
  },
  {
   "cell_type": "code",
   "execution_count": 63,
   "id": "ececbd4a",
   "metadata": {
    "execution": {
     "iopub.execute_input": "2022-10-17T12:20:48.030021Z",
     "iopub.status.busy": "2022-10-17T12:20:48.029558Z",
     "iopub.status.idle": "2022-10-17T12:20:48.046036Z",
     "shell.execute_reply": "2022-10-17T12:20:48.044687Z"
    },
    "papermill": {
     "duration": 0.077963,
     "end_time": "2022-10-17T12:20:48.048985",
     "exception": false,
     "start_time": "2022-10-17T12:20:47.971022",
     "status": "completed"
    },
    "tags": []
   },
   "outputs": [],
   "source": [
    "CM = confusion_matrix(y_test,predictions_2nd)\n",
    "\n",
    "TN_2nd = CM[0][0]\n",
    "FN_2nd = CM[1][0]\n",
    "TP_2nd = CM[1][1]\n",
    "FP_2nd = CM[0][1]"
   ]
  },
  {
   "cell_type": "code",
   "execution_count": 64,
   "id": "7fc660a5",
   "metadata": {
    "execution": {
     "iopub.execute_input": "2022-10-17T12:20:48.165766Z",
     "iopub.status.busy": "2022-10-17T12:20:48.165224Z",
     "iopub.status.idle": "2022-10-17T12:20:48.173679Z",
     "shell.execute_reply": "2022-10-17T12:20:48.172274Z"
    },
    "papermill": {
     "duration": 0.072081,
     "end_time": "2022-10-17T12:20:48.177303",
     "exception": false,
     "start_time": "2022-10-17T12:20:48.105222",
     "status": "completed"
    },
    "tags": []
   },
   "outputs": [
    {
     "name": "stderr",
     "output_type": "stream",
     "text": [
      "/opt/conda/lib/python3.7/site-packages/ipykernel_launcher.py:6: RuntimeWarning: invalid value encountered in long_scalars\n",
      "  \n",
      "/opt/conda/lib/python3.7/site-packages/ipykernel_launcher.py:14: RuntimeWarning: invalid value encountered in long_scalars\n",
      "  \n"
     ]
    }
   ],
   "source": [
    "\n",
    "TPR_2nd = TP_2nd/(TP_2nd+FN_2nd)\n",
    "\n",
    "TNR_2nd = TN_2nd/(TN_2nd+FP_2nd) \n",
    "\n",
    "PPV_2nd = TP_2nd/(TP_2nd+FP_2nd)\n",
    "\n",
    "NPV_2nd = TN_2nd/(TN_2nd+FN_2nd)\n",
    "\n",
    "FPR_2nd = FP_2nd/(FP_2nd+TN_2nd)\n",
    "\n",
    "FNR_2nd = FN_2nd/(TP_2nd+FN_2nd)\n",
    "\n",
    "FDR_2nd = FP_2nd/(TP_2nd+FP_2nd)\n",
    "\n",
    "\n",
    "ACC_2nd = (TP_2nd+TN_2nd)/(TP_2nd+FP_2nd+FN_2nd+TN_2nd)"
   ]
  },
  {
   "cell_type": "code",
   "execution_count": 65,
   "id": "f976c943",
   "metadata": {
    "execution": {
     "iopub.execute_input": "2022-10-17T12:20:48.296366Z",
     "iopub.status.busy": "2022-10-17T12:20:48.295819Z",
     "iopub.status.idle": "2022-10-17T12:20:48.302737Z",
     "shell.execute_reply": "2022-10-17T12:20:48.301497Z"
    },
    "papermill": {
     "duration": 0.068772,
     "end_time": "2022-10-17T12:20:48.305413",
     "exception": false,
     "start_time": "2022-10-17T12:20:48.236641",
     "status": "completed"
    },
    "tags": []
   },
   "outputs": [
    {
     "data": {
      "text/plain": [
       "0.9997307439880181"
      ]
     },
     "execution_count": 65,
     "metadata": {},
     "output_type": "execute_result"
    }
   ],
   "source": [
    "ACC_2nd"
   ]
  },
  {
   "cell_type": "code",
   "execution_count": 66,
   "id": "2043737f",
   "metadata": {
    "execution": {
     "iopub.execute_input": "2022-10-17T12:20:48.426916Z",
     "iopub.status.busy": "2022-10-17T12:20:48.426284Z",
     "iopub.status.idle": "2022-10-17T12:20:48.455275Z",
     "shell.execute_reply": "2022-10-17T12:20:48.453219Z"
    },
    "papermill": {
     "duration": 0.092134,
     "end_time": "2022-10-17T12:20:48.458245",
     "exception": false,
     "start_time": "2022-10-17T12:20:48.366111",
     "status": "completed"
    },
    "tags": []
   },
   "outputs": [
    {
     "name": "stdout",
     "output_type": "stream",
     "text": [
      "0.0\n"
     ]
    }
   ],
   "source": [
    "f1_2nd = f1_score(y_test, predictions_2nd)\n",
    "print (f1_2nd)"
   ]
  },
  {
   "cell_type": "code",
   "execution_count": 67,
   "id": "a7242773",
   "metadata": {
    "execution": {
     "iopub.execute_input": "2022-10-17T12:20:48.693718Z",
     "iopub.status.busy": "2022-10-17T12:20:48.693270Z",
     "iopub.status.idle": "2022-10-17T12:20:48.699944Z",
     "shell.execute_reply": "2022-10-17T12:20:48.698942Z"
    },
    "papermill": {
     "duration": 0.068529,
     "end_time": "2022-10-17T12:20:48.702220",
     "exception": false,
     "start_time": "2022-10-17T12:20:48.633691",
     "status": "completed"
    },
    "tags": []
   },
   "outputs": [],
   "source": [
    "\n",
    "TN_final = TN + TN_2nd\n",
    "FN_final = FN + FN_2nd\n",
    "TP_final = TP + TP_2nd\n",
    "FP_final = FP + FP_2nd\n",
    "\n",
    "\n",
    "TPR_final = TP_final/(TP_final+FN_final)\n",
    "\n",
    "\n",
    "PPV_final = TP_final/(TP_final+FP_final)\n",
    "\n",
    "ACC_final = (TP_final+TN_final)/(TP_final+FP_final+FN_final+TN_final)\n",
    "\n",
    "F1_score = 2*((PPV_final*TPR_final)/(PPV_final+TPR_final))"
   ]
  },
  {
   "cell_type": "code",
   "execution_count": 68,
   "id": "ff669b55",
   "metadata": {
    "execution": {
     "iopub.execute_input": "2022-10-17T12:20:48.822098Z",
     "iopub.status.busy": "2022-10-17T12:20:48.821414Z",
     "iopub.status.idle": "2022-10-17T12:20:48.833494Z",
     "shell.execute_reply": "2022-10-17T12:20:48.832239Z"
    },
    "papermill": {
     "duration": 0.073565,
     "end_time": "2022-10-17T12:20:48.836110",
     "exception": false,
     "start_time": "2022-10-17T12:20:48.762545",
     "status": "completed"
    },
    "tags": []
   },
   "outputs": [
    {
     "data": {
      "text/html": [
       "<div>\n",
       "<style scoped>\n",
       "    .dataframe tbody tr th:only-of-type {\n",
       "        vertical-align: middle;\n",
       "    }\n",
       "\n",
       "    .dataframe tbody tr th {\n",
       "        vertical-align: top;\n",
       "    }\n",
       "\n",
       "    .dataframe thead th {\n",
       "        text-align: right;\n",
       "    }\n",
       "</style>\n",
       "<table border=\"1\" class=\"dataframe\">\n",
       "  <thead>\n",
       "    <tr style=\"text-align: right;\">\n",
       "      <th></th>\n",
       "      <th>Predicted 0</th>\n",
       "      <th>Predicted 1</th>\n",
       "    </tr>\n",
       "  </thead>\n",
       "  <tbody>\n",
       "    <tr>\n",
       "      <th>Actual 0</th>\n",
       "      <td>71052</td>\n",
       "      <td>23</td>\n",
       "    </tr>\n",
       "    <tr>\n",
       "      <th>Actual 1</th>\n",
       "      <td>28</td>\n",
       "      <td>99</td>\n",
       "    </tr>\n",
       "  </tbody>\n",
       "</table>\n",
       "</div>"
      ],
      "text/plain": [
       "          Predicted 0  Predicted 1\n",
       "Actual 0        71052           23\n",
       "Actual 1           28           99"
      ]
     },
     "execution_count": 68,
     "metadata": {},
     "output_type": "execute_result"
    }
   ],
   "source": [
    "cm_df = pd.DataFrame(np.array([[TN_final, FP_final], [FN_final, TP_final]]), columns=['Predicted 0', 'Predicted 1'])\n",
    "cm_df = cm_df.rename(index={0: 'Actual 0',1:'Actual 1'})\n",
    "\n",
    "cm_df"
   ]
  },
  {
   "cell_type": "markdown",
   "id": "f1e5f659",
   "metadata": {
    "papermill": {
     "duration": 0.059214,
     "end_time": "2022-10-17T12:20:48.951335",
     "exception": false,
     "start_time": "2022-10-17T12:20:48.892121",
     "status": "completed"
    },
    "tags": []
   },
   "source": [
    "Combined confusion matrix"
   ]
  },
  {
   "cell_type": "code",
   "execution_count": 69,
   "id": "5177f3d1",
   "metadata": {
    "execution": {
     "iopub.execute_input": "2022-10-17T12:20:49.071198Z",
     "iopub.status.busy": "2022-10-17T12:20:49.069875Z",
     "iopub.status.idle": "2022-10-17T12:20:49.077578Z",
     "shell.execute_reply": "2022-10-17T12:20:49.075880Z"
    },
    "papermill": {
     "duration": 0.071831,
     "end_time": "2022-10-17T12:20:49.080499",
     "exception": false,
     "start_time": "2022-10-17T12:20:49.008668",
     "status": "completed"
    },
    "tags": []
   },
   "outputs": [
    {
     "name": "stdout",
     "output_type": "stream",
     "text": [
      "Overall accuracy final score:  0.999283727985169\n"
     ]
    }
   ],
   "source": [
    "print('Overall accuracy final score: ', ACC_final)"
   ]
  },
  {
   "cell_type": "code",
   "execution_count": 70,
   "id": "bd70bcdc",
   "metadata": {
    "execution": {
     "iopub.execute_input": "2022-10-17T12:20:49.197066Z",
     "iopub.status.busy": "2022-10-17T12:20:49.194642Z",
     "iopub.status.idle": "2022-10-17T12:20:49.202778Z",
     "shell.execute_reply": "2022-10-17T12:20:49.201368Z"
    },
    "papermill": {
     "duration": 0.068395,
     "end_time": "2022-10-17T12:20:49.205190",
     "exception": false,
     "start_time": "2022-10-17T12:20:49.136795",
     "status": "completed"
    },
    "tags": []
   },
   "outputs": [
    {
     "name": "stdout",
     "output_type": "stream",
     "text": [
      "Overall F1 final score:  0.7951807228915663\n"
     ]
    }
   ],
   "source": [
    "print('Overall F1 final score: ', F1_score)"
   ]
  },
  {
   "cell_type": "code",
   "execution_count": null,
   "id": "9500d603",
   "metadata": {
    "papermill": {
     "duration": 0.056919,
     "end_time": "2022-10-17T12:20:49.317529",
     "exception": false,
     "start_time": "2022-10-17T12:20:49.260610",
     "status": "completed"
    },
    "tags": []
   },
   "outputs": [],
   "source": []
  }
 ],
 "metadata": {
  "kernelspec": {
   "display_name": "Python 3 (ipykernel)",
   "language": "python",
   "name": "python3"
  },
  "language_info": {
   "codemirror_mode": {
    "name": "ipython",
    "version": 3
   },
   "file_extension": ".py",
   "mimetype": "text/x-python",
   "name": "python",
   "nbconvert_exporter": "python",
   "pygments_lexer": "ipython3",
   "version": "3.9.13"
  },
  "papermill": {
   "default_parameters": {},
   "duration": 1658.998717,
   "end_time": "2022-10-17T12:20:52.604067",
   "environment_variables": {},
   "exception": null,
   "input_path": "__notebook__.ipynb",
   "output_path": "__notebook__.ipynb",
   "parameters": {},
   "start_time": "2022-10-17T11:53:13.605350",
   "version": "2.3.4"
  }
 },
 "nbformat": 4,
 "nbformat_minor": 5
}
